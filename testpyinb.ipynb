{
 "cells": [
  {
   "cell_type": "code",
   "execution_count": 2,
   "metadata": {},
   "outputs": [
    {
     "name": "stdout",
     "output_type": "stream",
     "text": [
      "Hello World\n"
     ]
    }
   ],
   "source": [
    "print (\"Hello World\")"
   ]
  },
  {
   "cell_type": "code",
   "execution_count": 5,
   "metadata": {},
   "outputs": [
    {
     "name": "stdout",
     "output_type": "stream",
     "text": [
      "Nama: Angel Usia: 19\n"
     ]
    }
   ],
   "source": [
    "#Menggunakan Koma\n",
    "nama= \"Angel\"\n",
    "usia= 19\n",
    "\n",
    "print(\"Nama:\", nama,\"Usia:\", usia)"
   ]
  },
  {
   "cell_type": "code",
   "execution_count": 4,
   "metadata": {},
   "outputs": [
    {
     "name": "stdout",
     "output_type": "stream",
     "text": [
      "Nama: Angel, Usia: 19\n"
     ]
    }
   ],
   "source": [
    "#Operator + untuk Konkatenasi String\n",
    "nama= \"Angel\"\n",
    "usia= 19\n",
    "\n",
    "print(\"Nama: \" + nama + \", Usia: \" + str(usia))"
   ]
  },
  {
   "cell_type": "code",
   "execution_count": 5,
   "metadata": {},
   "outputs": [
    {
     "name": "stdout",
     "output_type": "stream",
     "text": [
      "Nama: Angel, Usia: 19\n"
     ]
    }
   ],
   "source": [
    "# String Formatting\n",
    "nama= \"Angel\"\n",
    "usia= 19\n",
    "\n",
    "print(\"Nama: {}, Usia: {}\".format(nama,usia))"
   ]
  },
  {
   "cell_type": "code",
   "execution_count": 7,
   "metadata": {},
   "outputs": [
    {
     "name": "stdout",
     "output_type": "stream",
     "text": [
      "Nama: Angel \n",
      "Usia: 19\n"
     ]
    }
   ],
   "source": [
    "# F-String\n",
    "nama= \"Angel\"\n",
    "usia= 19\n",
    "\n",
    "print(f\"Nama: {nama} \\nUsia: {usia}\")"
   ]
  },
  {
   "cell_type": "code",
   "execution_count": 14,
   "metadata": {},
   "outputs": [
    {
     "name": "stdout",
     "output_type": "stream",
     "text": [
      "Nama: Angel \n",
      "Usia: 19 \n",
      "Nilai: 99.900000\n"
     ]
    }
   ],
   "source": [
    "# Metode printf\n",
    "nama= \"Angel\"\n",
    "usia= 19\n",
    "nilai= 99.9\n",
    "\n",
    "print(\"Nama: %s \\nUsia: %d \\nNilai: %f\" % (nama,usia,nilai))"
   ]
  },
  {
   "cell_type": "code",
   "execution_count": 15,
   "metadata": {},
   "outputs": [
    {
     "name": "stdout",
     "output_type": "stream",
     "text": [
      "Nama: Angel, Usia: 19, Nilai: 99.900000\n"
     ]
    }
   ],
   "source": [
    "# Metode printf\n",
    "nama= \"Angel\"\n",
    "usia= 19\n",
    "nilai= 99.9\n",
    "\n",
    "print(\"Nama: %s, Usia: %d, Nilai: %f\" % (nama,usia,nilai))"
   ]
  },
  {
   "cell_type": "code",
   "execution_count": 2,
   "metadata": {},
   "outputs": [
    {
     "name": "stdout",
     "output_type": "stream",
     "text": [
      "Hallo, Angel!\n",
      "usia anda adalah: 19 tahun.\n"
     ]
    }
   ],
   "source": [
    "#Mendapatkan input dari pengguna\n",
    "nama= input(\"Masukkan nama anda:\")\n",
    "print(\"Hallo, \" + nama + \"!\")\n",
    "\n",
    "# Mendapatkan input angka dan mengonversinya menjadi\n",
    "usia = int(input(\"masukkan usai anda:\"))\n",
    "print(\"usia anda adalah:\", usia, \"tahun.\")"
   ]
  },
  {
   "cell_type": "code",
   "execution_count": 1,
   "metadata": {},
   "outputs": [
    {
     "name": "stdout",
     "output_type": "stream",
     "text": [
      "Nama: Angelina Geronsiana Yudrikewati\n",
      "Kelas: E\n",
      "Matkul: Pemdas\n",
      "Usia: 19 tahun\n",
      "BB: 48.0\n"
     ]
    }
   ],
   "source": [
    "nama= input(\"Masukkan nama anda:\")\n",
    "print(\"Nama:\", nama)\n",
    "kelas= input(\"Masukkan kelas anda:\")\n",
    "print(\"Kelas:\", kelas)\n",
    "matkul= input(\"Masukkan matkul anda:\") \n",
    "print(\"Matkul:\", matkul)\n",
    "usia= int(input(\"Masukkan usia anda:\"))\n",
    "print(\"Usia:\", usia, \"tahun\")\n",
    "BB= float(input(\"Masukkan BB anda\"))\n",
    "print(\"BB:\", BB)\n"
   ]
  },
  {
   "cell_type": "code",
   "execution_count": null,
   "metadata": {},
   "outputs": [
    {
     "data": {
      "text/plain": [
       "10"
      ]
     },
     "execution_count": 8,
     "metadata": {},
     "output_type": "execute_result"
    }
   ],
   "source": [
    "# Penjumlahan\n",
    "a = 5\n",
    "b = 5\n",
    "hasil = a + b\n",
    "hasil"
   ]
  },
  {
   "cell_type": "code",
   "execution_count": null,
   "metadata": {},
   "outputs": [
    {
     "data": {
      "text/plain": [
       "999995"
      ]
     },
     "execution_count": 8,
     "metadata": {},
     "output_type": "execute_result"
    }
   ],
   "source": [
    "# Pengurangan \n",
    "a = 1000000\n",
    "b = 5\n",
    "hasil = a - b\n",
    "hasil"
   ]
  },
  {
   "cell_type": "code",
   "execution_count": null,
   "metadata": {},
   "outputs": [],
   "source": [
    "# Pembagian\n",
    "a = 5\n",
    "b = 5\n",
    "hasil = a / b\n",
    "hasil"
   ]
  },
  {
   "cell_type": "code",
   "execution_count": null,
   "metadata": {},
   "outputs": [
    {
     "data": {
      "text/plain": [
       "25"
      ]
     },
     "execution_count": 5,
     "metadata": {},
     "output_type": "execute_result"
    }
   ],
   "source": [
    "# Perkalian\n",
    "a = 5\n",
    "b = 5\n",
    "hasil = a * b\n",
    "hasil"
   ]
  },
  {
   "cell_type": "code",
   "execution_count": null,
   "metadata": {},
   "outputs": [
    {
     "data": {
      "text/plain": [
       "1"
      ]
     },
     "execution_count": 10,
     "metadata": {},
     "output_type": "execute_result"
    }
   ],
   "source": [
    "# Hasil bagi\n",
    "a = 8\n",
    "b = 5\n",
    "hasil = a // b\n",
    "hasil"
   ]
  },
  {
   "cell_type": "code",
   "execution_count": null,
   "metadata": {},
   "outputs": [
    {
     "data": {
      "text/plain": [
       "3"
      ]
     },
     "execution_count": 19,
     "metadata": {},
     "output_type": "execute_result"
    }
   ],
   "source": [
    "# SIsas bagi\n",
    "a = 8\n",
    "b = 5\n",
    "hasil = a % b\n",
    "hasil"
   ]
  },
  {
   "cell_type": "code",
   "execution_count": null,
   "metadata": {},
   "outputs": [
    {
     "data": {
      "text/plain": [
       "27"
      ]
     },
     "execution_count": 15,
     "metadata": {},
     "output_type": "execute_result"
    }
   ],
   "source": [
    "# Perpangkatan\n",
    "a = 3\n",
    "b = 3\n",
    "hasil = a ** b\n",
    "hasil"
   ]
  },
  {
   "cell_type": "code",
   "execution_count": 2,
   "metadata": {},
   "outputs": [
    {
     "name": "stdout",
     "output_type": "stream",
     "text": [
      "Nama : Angelina Geronsiana Yudtikewati \n",
      "Usia : 19 \n",
      "Matkul : Pemdas\n",
      "Usia : 19 tahun\n",
      "BB : 48.0 kg\n"
     ]
    }
   ],
   "source": [
    "nama= input(\"Masukkan nama anda:\")\n",
    "kelas= input(\"Masukkan kelas anda:\")\n",
    "matkul= input(\"Masukkan matkul anda:\")\n",
    "print(f\"Nama : {nama} \\nUsia : {usia} \\nMatkul : {matkul}\") \n",
    "usia= int(input(\"Masukkan usia anda:\"))\n",
    "print(\"Usia :\", usia, \"tahun\")\n",
    "BB= float(input(\"Masukkan BB anda\"))\n",
    "print(\"BB :\", BB, \"kg\")\n"
   ]
  },
  {
   "cell_type": "code",
   "execution_count": null,
   "metadata": {},
   "outputs": [
    {
     "name": "stdout",
     "output_type": "stream",
     "text": [
      "True\n"
     ]
    }
   ],
   "source": [
    "# Perbandingan apakah sama atau tidak\n",
    "a = 5\n",
    "b = 5\n",
    "print(a == b)"
   ]
  },
  {
   "cell_type": "code",
   "execution_count": null,
   "metadata": {},
   "outputs": [
    {
     "name": "stdout",
     "output_type": "stream",
     "text": [
      "False\n"
     ]
    }
   ],
   "source": [
    "# Perbandingan\n",
    "a = \"Angel\"\n",
    "b = \"angel\"\n",
    "print(a == b)"
   ]
  },
  {
   "cell_type": "code",
   "execution_count": null,
   "metadata": {},
   "outputs": [
    {
     "name": "stdout",
     "output_type": "stream",
     "text": [
      "False\n"
     ]
    }
   ],
   "source": [
    "# Tidak sama dengan\n",
    "a = 5\n",
    "b = 5\n",
    "print(a != b)"
   ]
  },
  {
   "cell_type": "code",
   "execution_count": null,
   "metadata": {},
   "outputs": [
    {
     "name": "stdout",
     "output_type": "stream",
     "text": [
      "Dewasa\n"
     ]
    }
   ],
   "source": [
    "usia = \"18\"\n",
    "status = \"Dewasa\" if usia > \"18\" else \"Anak-anak\"\n",
    "print(status)"
   ]
  },
  {
   "cell_type": "code",
   "execution_count": null,
   "metadata": {},
   "outputs": [],
   "source": [
    "jenis_kelamin = \"laki-laki\"\n"
   ]
  },
  {
   "cell_type": "code",
   "execution_count": 35,
   "metadata": {},
   "outputs": [
    {
     "name": "stdout",
     "output_type": "stream",
     "text": [
      "A\n",
      "Nama Angelina Geronsiana Yudrikewati memiliki nilai 98  \n",
      "Dengan jurusan: Informatika\n"
     ]
    }
   ],
   "source": [
    "nama= input(\"Masukkan nama anda:\")\n",
    "nilai= int(input(\"Masukkan nilai anda:\"))\n",
    "jurusan= input(\"Masukkan jurusan anda:\")\n",
    "\n",
    "if (nilai >= 80) and (nilai <= 100):\n",
    "    print(\"A\")\n",
    "elif (nilai >= 73) and (nilai <= 79):\n",
    "    print(\"AB\")\n",
    "elif (nilai >= 67) and (nilai <= 72):\n",
    "    print(\"B\")\n",
    "elif (nilai >= 55) and (nilai <= 66):\n",
    "    print(\"BC\")\n",
    "elif (nilai >= 40) and (nilai <= 54):\n",
    "    print(\"C\")\n",
    "else:\n",
    "    print(\"F\")\n",
    "\n",
    "print(f\"Nama : {nama} memiliki nilai {nilai}  \\nDengan jurusan: {jurusan}\")\n",
    "\n",
    "\n",
    "\n",
    "\n",
    "\n"
   ]
  },
  {
   "cell_type": "code",
   "execution_count": 10,
   "metadata": {},
   "outputs": [
    {
     "name": "stdout",
     "output_type": "stream",
     "text": [
      "Gender tidak valid\n"
     ]
    }
   ],
   "source": [
    "usia= int(input(\"Masukkan usia anda:\"))\n",
    "gender= input(\"Masukkan gender anda:\")\n",
    "\n",
    "if (3 <= usia <= 18):\n",
    "    if gender == \"laki-laki\":\n",
    "      print(\"Rekomendasi Asupan Air =\", 1.6, \"liter\")\n",
    "    elif gender == \"perempuan\":\n",
    "      print(\"Rekomendasi Asupan Air =\", 1.4, \"liter\")\n",
    "    else:\n",
    "      print(\"Gender tidak valid\")\n",
    "if (18 < usia <= 64):\n",
    "    if gender == \"laki-laki\":\n",
    "      print(\"Rekomendasi Asupan Air =\", 2.5, \"liter\")\n",
    "    elif gender == \"perempuan\":\n",
    "      print(\"Rekomendasi Asupan Air =\", 2.0, \"liter\")\n",
    "    else:\n",
    "      print(\"Gender tidak valid\")\n",
    "if (usia >= 65):\n",
    "    if gender == \"laki-laki\":\n",
    "      print(\"Rekomendasi Asupan Air =\", 2.0, \"liter\")\n",
    "    elif gender == \"perempuan\":\n",
    "      print(\"Rekomendasi Asupan Air =\", 1.8, \"liter\")\n",
    "    else:\n",
    "      print(\"Gender tidak valid\")\n",
    "if (usia <= 2):\n",
    "   print(\"Masih diberi asi\")\n",
    "\n",
    "   \n",
    "\n",
    "\n"
   ]
  },
  {
   "cell_type": "code",
   "execution_count": 37,
   "metadata": {},
   "outputs": [
    {
     "name": "stdout",
     "output_type": "stream",
     "text": [
      "masih diberi ASI\n"
     ]
    }
   ],
   "source": [
    "usia= int(input(\"Masukkan usia anda:\"))\n",
    "gender= input(\"Masukkan gender anda:\")\n",
    "\n",
    "if(3 <= usia <= 18 ):\n",
    "    if gender == \"laki-laki\":\n",
    "        print(\"Rekomendasi Asuapan Air:\", 1.6, \"liter\")\n",
    "    elif gender == \"perempuan\":\n",
    "        print(\"Rekomendasi Asuapan Air:\", 1.4, \"liter\")\n",
    "    else:\n",
    "        print(\"gender tidak terdeteksi\")\n",
    "if(18 < usia <= 64):\n",
    "    if gender == \"laki-laki\":\n",
    "        print(\"Rekomendasi Asuapan Air:\", 2.5, \"liter\")\n",
    "    elif gender == \"perempuan\":\n",
    "        print(\"Rekomendasi Asuapan Air:\", 2.0, \"liter\")\n",
    "    else:\n",
    "        print(\"gender tidak terdeteksi\")\n",
    "if(usia >= 65):\n",
    "    if gender == \"laki-laki\":\n",
    "        print(\"Rekomendasi Asuapan Air:\", 2.0, \"liter\")\n",
    "    elif gender == \"perempuan\":\n",
    "        print(\"Rekomendasi Asuapan Air:\", 1.8, \"liter\")\n",
    "    else:\n",
    "        print(\"gender tidak terdeteksi\")\n",
    "if(usia <= 2):\n",
    "    print(\"masih diberi ASI\")\n"
   ]
  },
  {
   "cell_type": "code",
   "execution_count": 94,
   "metadata": {},
   "outputs": [
    {
     "name": "stdout",
     "output_type": "stream",
     "text": [
      "Gender tidak terdeteksi\n"
     ]
    }
   ],
   "source": [
    "usia = int(input(\"Masukkan usia anda:\"))\n",
    "gender = input(\"Masukkan gender anda:\")\n",
    "\n",
    "if (3 <= usia <= 18):\n",
    "    if gender == \"laki-laki\":\n",
    "        print(\"Rekomendasi Asupan Air:\", 1.6, \"liter\") \n",
    "    elif gender == \"perempuan\":\n",
    "        print(\"Rekomendasi Asupan Air:\", 1.4, \"liter\")  \n",
    "    else:\n",
    "        print(\"Gender tidak terdeteksi\")"
   ]
  },
  {
   "cell_type": "code",
   "execution_count": 41,
   "metadata": {},
   "outputs": [
    {
     "name": "stdout",
     "output_type": "stream",
     "text": [
      "Suhu tubuh di atas normal\n",
      "Detak jantung terlalu tinggi, butuh pemeriksaan lebih lanjut.\n"
     ]
    }
   ],
   "source": [
    "#Input suhu tubuh\n",
    "suhu_tubuh = 38\n",
    "\n",
    "#Input detak jantung\n",
    "detak_jantung = 110\n",
    "\n",
    "#Mengecek apakaah sushu tubuh du atas normal\n",
    "if suhu_tubuh > 37.5:\n",
    "    print(\"Suhu tubuh di atas normal\")\n",
    "\n",
    "    # Mengecek apakah sushu tubuh sangat tinggi\n",
    "    if suhu_tubuh > 39:\n",
    "        print(\"Suhu tubuh sangat tinggi, butuh perhatian medis segera\")\n",
    "\n",
    "    # Mengecek detak jantung jika suhu tubuh tidak terlalu tinggi\n",
    "    else: \n",
    "        # Mengecek apakah detak jantung telalu tinggi\n",
    "        if detak_jantung > 100:\n",
    "            print(\"Detak jantung terlalu tinggi, butuh pemeriksaan lebih lanjut.\")\n",
    "        else:\n",
    "            print(\"Detak jantung normal, perbanyak istirahat dan minuim cairan\")\n",
    "else:\n",
    "    print(\"Suhu tubuh normal, tidak ada tindakan khusus yang diperlukan\")"
   ]
  },
  {
   "cell_type": "code",
   "execution_count": 8,
   "metadata": {},
   "outputs": [
    {
     "name": "stdout",
     "output_type": "stream",
     "text": [
      "Python\n"
     ]
    }
   ],
   "source": [
    "prodi = 12\n",
    "status = 20 < 23 if prodi == \"12\" else 20 > 23\n",
    "\n",
    "harga = \"Java Script\" if status == True else \"Python\"\n",
    "print(harga)"
   ]
  },
  {
   "cell_type": "code",
   "execution_count": 5,
   "metadata": {},
   "outputs": [
    {
     "name": "stdout",
     "output_type": "stream",
     "text": [
      "Java Script\n"
     ]
    }
   ],
   "source": [
    "prodi = \"Informatika\"\n",
    "status = 20 < 23 if prodi == \"informatika\" else 25 > 24\n",
    "\n",
    "harga = \"Java Script\" if status == True else \"Python\"\n",
    "print(harga)"
   ]
  },
  {
   "cell_type": "code",
   "execution_count": 23,
   "metadata": {},
   "outputs": [
    {
     "name": "stdout",
     "output_type": "stream",
     "text": [
      "Nama : ANGEL \n",
      "Suhu tubuh: 39.0  \n",
      "Detak jantung: 100\n",
      "cukup istirahat saja\n",
      "Detak jantung normal, perbanyak istirahat dan minuim cairan\n"
     ]
    }
   ],
   "source": [
    "nama= input(\"Masukkan nama anda:\")\n",
    "suhu_tubuh= float(input(\"Suhu tubuh saat ini:\"))\n",
    "detak_jantung= int(input(\"Detak jantung saat ini:\"))\n",
    "print(f\"Nama : {nama} \\nSuhu tubuh: {suhu_tubuh}  \\nDetak jantung: {detak_jantung}\")                  \n",
    "\n",
    "\n",
    "#Mengecek apakaah suhu tubuh du atas normal\n",
    "if suhu_tubuh > 37.5:\n",
    "  \n",
    "    if (39 < suhu_tubuh < 50):\n",
    "        print(\"Harus segera dirawat\")\n",
    "    else:\n",
    "        print(\"cukup istirahat saja\")            \n",
    "        if detak_jantung > 100:\n",
    "            print(\"Detak jantung terlalu tinggi, butuh pemeriksaan lebih lanjut.\")\n",
    "        else:\n",
    "            print(\"Detak jantung normal, perbanyak istirahat dan minuim cairan\")\n",
    "else:\n",
    "    print(\"Suhu tubuh normal< tidak diperlukan tindakan lanjut\")\n",
    "    if detak_jantung > 100:\n",
    "        print(\"Detak jantung terlalu tinggi, butuh pemeriksaan lebih lanjut.\")\n",
    "    else:\n",
    "        print(\"Detak jantung normal, perbanyak istirahat dan minuim cairan\")\n",
    "\n",
    "\n",
    "\n"
   ]
  },
  {
   "cell_type": "code",
   "execution_count": 27,
   "metadata": {},
   "outputs": [
    {
     "name": "stdout",
     "output_type": "stream",
     "text": [
      "Nama : Angell \n",
      "Suhu tubuh: 38.0  \n",
      "Detak jantung: 100\n",
      "cukup istirahat saja\n",
      "Detak jantung normal, perbanyak istirahat dan minuim cairan\n"
     ]
    }
   ],
   "source": [
    "angka= int(input(\"Masukkan angka:\"))\n",
    "\n",
    "match angka :\n",
    "    case 1:\n",
    "        nama= input(\"Masukkan nama anda:\")\n",
    "        suhu_tubuh= float(input(\"Suhu tubuh saat ini:\"))\n",
    "        detak_jantung= int(input(\"Detak jantung saat ini:\"))\n",
    "        print(f\"Nama : {nama} \\nSuhu tubuh: {suhu_tubuh}  \\nDetak jantung: {detak_jantung}\")                  \n",
    "\n",
    "\n",
    "        #Mengecek apakaah suhu tubuh du atas normal\n",
    "        if suhu_tubuh > 37.5:\n",
    "  \n",
    "            if (39 < suhu_tubuh < 50):\n",
    "                print(\"Harus segera dirawat\")\n",
    "            else:\n",
    "                print(\"cukup istirahat saja\")            \n",
    "                if detak_jantung > 100:\n",
    "                    print(\"Detak jantung terlalu tinggi, butuh pemeriksaan lebih lanjut.\")\n",
    "                else:\n",
    "                    print(\"Detak jantung normal, perbanyak istirahat dan minuim cairan\")\n",
    "        else:\n",
    "            print(\"Suhu tubuh normal< tidak diperlukan tindakan lanjut\")\n",
    "            if detak_jantung > 100:\n",
    "                print(\"Detak jantung terlalu tinggi, butuh pemeriksaan lebih lanjut.\")\n",
    "            else:\n",
    "                print(\"Detak jantung normal, perbanyak istirahat dan minuim cairan\")\n",
    "    case 2:\n",
    "        nama= input(\"masukkan nama anda:\")\n",
    "        tekanan_sistolik= int(input(\"masukkan tekanan darah sistolik anda:\"))\n",
    "        tekanan_diastolik= int(input(\"masukkan tekanan darah diastolik anda: \"))\n",
    "        denyut_nadi= int(input(\"masukkan denyut nadi anda:\"))\n",
    "        print(f\"Nama: {nama} \\nTekanan Darah Sistolik: {tekanan_sistolik} mmHg \\nTekanan Darah Diastolik: {tekanan_diastolik} mmHg \\nDenyut Nadi: {denyut_nadi} bpm\")\n",
    "\n",
    "        if (tekanan_sistolik >= 180) and (tekanan_diastolik >= 120):\n",
    "            print(\"Segera cari bantuan medis karena ini merupakan krisis hipertensi\")\n",
    "        else:\n",
    "            if (tekanan_sistolik >= 140) and (tekanan_diastolik >= 90):\n",
    "                print(\"Konsultasi dengan dokter mengenai hipertensi\")\n",
    "            elif (120 <= tekanan_sistolik <= 139 ) and (80 <= tekanan_diastolik <= 89):\n",
    "                print(\"Termasuk ke dalam kategori prehipertensi\")\n",
    "            else:\n",
    "                print(\"Tekanan darah normal\")\n",
    "                if denyut_nadi >= 100:\n",
    "                    print(\"Disarankan untuk memeriksa kondisi kesehatan jantung\")\n",
    "                elif denyut_nadi <= 60:\n",
    "                    print(\"Disaranakan untuk memeriksa apakah ada gejala lain yang mengiringi bradikardia\")\n",
    "                else:\n",
    "                    print(\"Denyut nadi anda normal\")\n",
    "    case 3:\n",
    "        print(\"Masih kosong\")\n",
    "    case _:\n",
    "        print(\"Masukkan angka yang valid\")\n",
    "\n",
    "\n",
    "\n",
    "\n"
   ]
  },
  {
   "cell_type": "code",
   "execution_count": 42,
   "metadata": {},
   "outputs": [
    {
     "name": "stdout",
     "output_type": "stream",
     "text": [
      "angkahnya adalah 0\n",
      "angkahnya adalah 1\n",
      "angkahnya adalah 2\n",
      "angkahnya adalah 3\n",
      "angkahnya adalah 4\n",
      "angkahnya adalah 5\n",
      "angkahnya adalah 6\n",
      "angkahnya adalah 7\n",
      "angkahnya adalah 8\n",
      "angkahnya adalah 9\n"
     ]
    }
   ],
   "source": [
    "for a in range(10):\n",
    "    print(\"angkahnya adalah\", a)"
   ]
  },
  {
   "cell_type": "code",
   "execution_count": 30,
   "metadata": {},
   "outputs": [
    {
     "name": "stdout",
     "output_type": "stream",
     "text": [
      "angkahnya adalah 1\n",
      "angkahnya adalah 2\n",
      "angkahnya adalah 3\n",
      "angkahnya adalah 4\n",
      "angkahnya adalah 5\n"
     ]
    }
   ],
   "source": [
    "for a in range(1,6):\n",
    "    print(\"angkahnya adalah\", a)"
   ]
  },
  {
   "cell_type": "code",
   "execution_count": 31,
   "metadata": {},
   "outputs": [
    {
     "name": "stdout",
     "output_type": "stream",
     "text": [
      "1 adalah angkanya\n",
      "2 adalah angkanya\n",
      "3 adalah angkanya\n",
      "4 adalah angkanya\n",
      "5 adalah angkanya\n"
     ]
    }
   ],
   "source": [
    "for a in range(1,6):\n",
    "    print(f\"{a} adalah angkanya\")"
   ]
  },
  {
   "cell_type": "code",
   "execution_count": 43,
   "metadata": {},
   "outputs": [
    {
     "name": "stdout",
     "output_type": "stream",
     "text": [
      "angkahnya adalah 6\n",
      "angkahnya adalah 5\n",
      "angkahnya adalah 4\n",
      "angkahnya adalah 3\n",
      "angkahnya adalah 2\n"
     ]
    }
   ],
   "source": [
    "for a in range(6,1,-1):\n",
    "    print(\"angkahnya adalah\", a)"
   ]
  },
  {
   "cell_type": "code",
   "execution_count": 40,
   "metadata": {},
   "outputs": [
    {
     "name": "stdout",
     "output_type": "stream",
     "text": [
      "angkahnya adalah 5\n",
      "angkahnya adalah 7\n",
      "angkahnya adalah 9\n"
     ]
    }
   ],
   "source": [
    "for a in range(5,10, 2):\n",
    "    print(\"angkanya adalah\", a)"
   ]
  },
  {
   "cell_type": "code",
   "execution_count": 37,
   "metadata": {},
   "outputs": [
    {
     "name": "stdout",
     "output_type": "stream",
     "text": [
      "angka adalah 0\n",
      "angka adalah 1\n",
      "angka adalah 2\n",
      "angka adalah 3\n",
      "angka adalah 4\n"
     ]
    }
   ],
   "source": [
    "i = 0\n",
    "\n",
    "while i < 5:\n",
    "    print(\"angka adalah\", i)\n",
    "    i +=1"
   ]
  },
  {
   "cell_type": "code",
   "execution_count": 51,
   "metadata": {},
   "outputs": [
    {
     "ename": "TypeError",
     "evalue": "unsupported operand type(s) for -: 'int' and 'tuple'",
     "output_type": "error",
     "traceback": [
      "\u001b[1;31m---------------------------------------------------------------------------\u001b[0m",
      "\u001b[1;31mTypeError\u001b[0m                                 Traceback (most recent call last)",
      "Cell \u001b[1;32mIn[51], line 5\u001b[0m\n\u001b[0;32m      3\u001b[0m \u001b[38;5;28;01mif\u001b[39;00m (harga \u001b[38;5;241m>\u001b[39m\u001b[38;5;241m=\u001b[39m \u001b[38;5;241m270000\u001b[39m):\n\u001b[0;32m      4\u001b[0m     diskon\u001b[38;5;241m=\u001b[39m harga \u001b[38;5;241m*\u001b[39m \u001b[38;5;241m0\u001b[39m,\u001b[38;5;241m15\u001b[39m\n\u001b[1;32m----> 5\u001b[0m     hasil\u001b[38;5;241m=\u001b[39m \u001b[43mharga\u001b[49m\u001b[43m \u001b[49m\u001b[38;5;241;43m-\u001b[39;49m\u001b[43m \u001b[49m\u001b[43mdiskon\u001b[49m\n\u001b[0;32m      6\u001b[0m     \u001b[38;5;28mprint\u001b[39m(\u001b[38;5;124m\"\u001b[39m\u001b[38;5;124mdiskon\u001b[39m\u001b[38;5;124m\"\u001b[39m,diskon)\n\u001b[0;32m      7\u001b[0m     \u001b[38;5;28mprint\u001b[39m(\u001b[38;5;124m\"\u001b[39m\u001b[38;5;124mHasil akhir\u001b[39m\u001b[38;5;124m\"\u001b[39m, hasil)\n",
      "\u001b[1;31mTypeError\u001b[0m: unsupported operand type(s) for -: 'int' and 'tuple'"
     ]
    }
   ],
   "source": [
    "harga= int(input(\"Masukkan harga:\"))\n",
    "\n",
    "if (harga >= 270000):\n",
    "    diskon= harga * 0,15\n",
    "    hasil= harga - diskon\n",
    "    print(\"diskon\",diskon)\n",
    "    print(\"Hasil akhir\", hasil)\n",
    "else:\n",
    "    print(\"sorry yeee\")"
   ]
  },
  {
   "cell_type": "code",
   "execution_count": 48,
   "metadata": {},
   "outputs": [
    {
     "name": "stdout",
     "output_type": "stream",
     "text": [
      "angka ganjil\n"
     ]
    }
   ],
   "source": [
    "angka= int(input(\"Masukkan angka:\"))\n",
    "\n",
    "if angka % 2 ==0:\n",
    "    print(\"angka genap\")\n",
    "else:\n",
    "    print(\"angka ganjil\")\n"
   ]
  },
  {
   "cell_type": "code",
   "execution_count": 119,
   "metadata": {},
   "outputs": [
    {
     "name": "stdout",
     "output_type": "stream",
     "text": [
      "35.0°C = 95.0°F\n",
      "35.0°C = 308.15°K\n",
      "35.0°C = 28.0°R\n"
     ]
    }
   ],
   "source": [
    "pilihan= int(input(\"masukkan pilihan 1/2/3/4:\"))\n",
    "\n",
    "match pilihan:\n",
    "    case 1 :\n",
    "        suhu = float(input(\"masukkan suhu dalam celcius:\"))\n",
    "        celcius_to_farenheit = (suhu * 9/5) + 32\n",
    "        print(f\"{suhu}°C = {celcius_to_farenheit}°F\")\n",
    "        celcius_to_kelvin = suhu + 273.15\n",
    "        print(f\"{suhu}°C = {celcius_to_kelvin}°K\")\n",
    "        celcius_to_reamur = suhu * 4/5\n",
    "        print(f\"{suhu}°C = {celcius_to_reamur}°R\")\n",
    "    case 2:\n",
    "        suhu = float(input(\"masukkan suhu dalam kelvin:\"))\n",
    "        kelvin_to_celcius = suhu - 273\n",
    "        print(f\"{suhu}°K = {kelvin_to_celcius}°C\")\n",
    "        kelvin_to_farenheit = 9/5 * (suhu - 273) + 32\n",
    "        print(f\"{suhu}°K = {kelvin_to_farenheit}°F\")\n",
    "        kelvin_to_reamur = 4/5 * (suhu - 273)\n",
    "        print(f\"{suhu}°K = {kelvin_to_reamur}°R\")\n",
    "    case 3:\n",
    "        suhu = float(input(\"masukkan suhu dalam kelvin:\"))\n",
    "        farenheit_to_celcius = suhu - 273\n",
    "        print(f\"{suhu}°K = {farenheit_to_celcius}°C\")\n",
    "        farenheit_to_kelvin = 9/5 * (suhu - 273) + 32\n",
    "        print(f\"{suhu}°K = {farenheit_to_kelvin}°K\")\n",
    "        farenheit_to_reamur = 4/5 * (suhu - 273)\n",
    "        print(f\"{suhu}°K = {farenheit_to_reamur}°R\")\n",
    "    case 4:\n",
    "        suhu = float(input(\"Masukkan suhu dalam Reamur: \"))\n",
    "        reamur_to_celsius = suhu * 8/10\n",
    "        print(f\"{suhu} ⁰R = {reamur_to_celsius} ⁰C\")\n",
    "        reamur_to_fahrenheit = (suhu * 2.25) + 32\n",
    "        print(f\"{suhu} ⁰R = {reamur_to_fahrenheit} ⁰F\")\n",
    "        reamur_to_kelvin = (suhu * 8/10 ) - 273.15\n",
    "        print(f\"{suhu} ⁰R = {reamur_to_kelvin} ⁰K\")        \n",
    "    case _:\n",
    "        print(\"Tidak valid\")"
   ]
  },
  {
   "cell_type": "code",
   "execution_count": 5,
   "metadata": {},
   "outputs": [
    {
     "name": "stdout",
     "output_type": "stream",
     "text": [
      "Nama: Angelina \n",
      "Tekanan Darah Sistolik: 150 mmHg \n",
      "Tekanan Darah Diastolik: 99 mmHg \n",
      "Denyut Nadi: 80 bpm\n",
      "Konsultasi dengan dokter mengenai hipertensi\n",
      "Denyut nadi anda normal\n",
      "===============================================================================\n",
      "Nama: Ikrima \n",
      "Tekanan Darah Sistolik: 130 mmHg \n",
      "Tekanan Darah Diastolik: 85 mmHg \n",
      "Denyut Nadi: 59 bpm\n",
      "Termasuk ke dalam kategori prehipertensi\n",
      "Disaranakan untuk memeriksa apakah ada gejala lain yang mengiringi bradikardia\n",
      "===============================================================================\n",
      "Nama: Ina \n",
      "Tekanan Darah Sistolik: 181 mmHg \n",
      "Tekanan Darah Diastolik: 135 mmHg \n",
      "Denyut Nadi: 100 bpm\n",
      "Segera cari bantuan medis karena ini merupakan krisis hipertensi\n",
      "Disarankan untuk memeriksa kondisi kesehatan jantung\n",
      "===============================================================================\n"
     ]
    }
   ],
   "source": [
    "i = 0\n",
    "\n",
    "while i < 3:\n",
    "    nama= input(\"masukkan nama anda:\")\n",
    "    tekanan_sistolik= int(input(\"masukkan tekanan darah sistolik anda:\"))\n",
    "    tekanan_diastolik= int(input(\"masukkan tekanan darah diastolik anda: \"))\n",
    "    denyut_nadi= int(input(\"masukkan denyut nadi anda:\"))\n",
    "    print(f\"Nama: {nama} \\nTekanan Darah Sistolik: {tekanan_sistolik} mmHg \\nTekanan Darah Diastolik: {tekanan_diastolik} mmHg \\nDenyut Nadi: {denyut_nadi} bpm\")\n",
    "   \n",
    "\n",
    "    # mengecek tekanan darah\n",
    "    if (tekanan_sistolik >= 180) and (tekanan_diastolik >= 120):\n",
    "        print(\"Segera cari bantuan medis karena ini merupakan krisis hipertensi\")\n",
    "    else:\n",
    "        if (tekanan_sistolik >= 140) and (tekanan_diastolik >= 90):\n",
    "            print(\"Konsultasi dengan dokter mengenai hipertensi\")\n",
    "        elif (120 < tekanan_sistolik <= 139 ) and (80 <= tekanan_diastolik <= 89):\n",
    "            print(\"Termasuk ke dalam kategori prehipertensi\")\n",
    "        else:\n",
    "            print(\"Tekanan darah normal\")\n",
    "\n",
    "    # mengecek denyut nadi\n",
    "    if denyut_nadi >= 100:\n",
    "        print(\"Disarankan untuk memeriksa kondisi kesehatan jantung\")\n",
    "    elif denyut_nadi <= 60:\n",
    "        print(\"Disaranakan untuk memeriksa apakah ada gejala lain yang mengiringi bradikardia\")\n",
    "    else:\n",
    "        print(\"Denyut nadi anda normal\")\n",
    "    print(\"===============================================================================\")\n",
    "    i+=1\n",
    "\n",
    "\n"
   ]
  },
  {
   "cell_type": "code",
   "execution_count": 16,
   "metadata": {},
   "outputs": [
    {
     "name": "stdout",
     "output_type": "stream",
     "text": [
      "Nama: fi \n",
      "Tekanan Darah Sistolik: 120 mmHg  \n",
      "Tekanan Darah Diastolik: 90 mmHg\n",
      "Termasuk ke dalam kategori prehipertensi\n"
     ]
    }
   ],
   "source": [
    "pilihan= int(input(\"Masukkan pilihan anda:\"))\n",
    "\n",
    "match pilihan:\n",
    "    case 1: \n",
    "        nama= input(\"masukkan nama anda:\")\n",
    "        tekanan_sistolik= int(input(\"masukkan tekanan darah sistolik anda:\"))\n",
    "        tekanan_diastolik= int(input(\"masukkan tekanan darah diastolik anda: \"))\n",
    "        print(f\"Nama: {nama} \\nTekanan Darah Sistolik: {tekanan_sistolik} mmHg  \\nTekanan Darah Diastolik: {tekanan_diastolik} mmHg\")\n",
    "\n",
    "        if (tekanan_sistolik > 180) or (tekanan_diastolik >120):\n",
    "            print(\"Segera cari bantuan medis karena ini merupakan krisis hipertensi\")\n",
    "        else:\n",
    "            if (tekanan_sistolik > 140) or (tekanan_diastolik > 90):\n",
    "                print(\"Konsultasi dengan dokter mengenai hipertensi\")\n",
    "            elif (120 <= tekanan_sistolik <= 139 ) or (80 <= tekanan_diastolik <= 89):\n",
    "                print(\"Termasuk ke dalam kategori prehipertensi\")\n",
    "            else:\n",
    "                print(\"Tekanan darah normal\")\n",
    "    case 2:\n",
    "        i = 0\n",
    "\n",
    "        while i < 3:\n",
    "            nama= input(\"masukkan nama anda:\")\n",
    "            tekanan_sistolik= int(input(\"masukkan tekanan darah sistolik anda:\"))\n",
    "            tekanan_diastolik= int(input(\"masukkan tekanan darah diastolik anda: \"))\n",
    "            denyut_nadi= int(input(\"masukkan denyut nadi anda:\"))\n",
    "            print(f\"Nama: {nama} \\nTekanan Darah Sistolik: {tekanan_sistolik} mmHg \\nTekanan Darah Diastolik: {tekanan_diastolik} mmHg \\nDenyut Nadi: {denyut_nadi} bpm\")\n",
    "        \n",
    "\n",
    "            # mengecek tekanan darah\n",
    "            if (tekanan_sistolik >= 180) and (tekanan_diastolik >= 120):\n",
    "                print(\"Segera cari bantuan medis karena ini merupakan krisis hipertensi\")\n",
    "            else:\n",
    "                if (tekanan_sistolik >= 140) and (tekanan_diastolik >= 90):\n",
    "                    print(\"Konsultasi dengan dokter mengenai hipertensi\")\n",
    "                elif (120 < tekanan_sistolik <= 139 ) and (80 <= tekanan_diastolik <= 89):\n",
    "                    print(\"Termasuk ke dalam kategori prehipertensi\")\n",
    "                else:\n",
    "                    print(\"Tekanan darah normal\")\n",
    "\n",
    "            # mengecek denyut nadi\n",
    "            if denyut_nadi >= 100:\n",
    "                print(\"Disarankan untuk memeriksa kondisi kesehatan jantung\")\n",
    "            elif denyut_nadi <= 60:\n",
    "                print(\"Disaranakan untuk memeriksa apakah ada gejala lain yang mengiringi bradikardia\")\n",
    "            else:\n",
    "                print(\"Denyut nadi anda normal\")\n",
    "            print(\"===============================================================================\")\n",
    "            i+=1\n",
    "    case 3:\n",
    "        print(\"Masih kosong\")\n",
    "    case _: \n",
    "        print(\"Tidak valid\")\n",
    "\n"
   ]
  },
  {
   "cell_type": "code",
   "execution_count": 15,
   "metadata": {},
   "outputs": [
    {
     "name": "stdout",
     "output_type": "stream",
     "text": [
      "\n",
      "Hasil untuk angel:\n",
      "Segera cari bantuan medis. Ini merupakan krisis hipertensi.\n",
      "Denyut nadi Anda normal.\n",
      "------------------------------\n",
      "\n",
      "Hasil untuk una:\n",
      "Anda berada dalam kategori prehipertensi.\n",
      "Denyut nadi lebih dari 100 bpm, periksa kondisi kesehatan jantung.\n",
      "------------------------------\n",
      "\n",
      "Hasil untuk fij:\n",
      "Anda berada dalam kategori prehipertensi.\n",
      "Denyut nadi Anda normal.\n",
      "------------------------------\n"
     ]
    }
   ],
   "source": [
    "# Fungsi untuk mengecek kondisi pasien berdasarkan tekanan darah dan denyut nadi\n",
    "def cek_kondisi(tekanan_sistolik, tekanan_diastolik, denyut_nadi):\n",
    "    # Cek kondisi tekanan darah\n",
    "    if tekanan_sistolik > 180 or tekanan_diastolik > 120:\n",
    "        rekomendasi = \"Segera cari bantuan medis. Ini merupakan krisis hipertensi.\"\n",
    "    elif tekanan_sistolik > 140 or tekanan_diastolik > 90:\n",
    "        rekomendasi = \"Disarankan konsultasi dengan dokter mengenai hipertensi.\"\n",
    "    elif 120 <= tekanan_sistolik <= 139 or 80 <= tekanan_diastolik <= 89:\n",
    "        rekomendasi = \"Anda berada dalam kategori prehipertensi.\"\n",
    "    else:\n",
    "        rekomendasi = \"Tekanan darah Anda normal.\"\n",
    "\n",
    "    # Cek kondisi denyut nadi\n",
    "    if denyut_nadi > 100:\n",
    "        rekomendasi += \"\\nDenyut nadi lebih dari 100 bpm, periksa kondisi kesehatan jantung.\"\n",
    "    elif denyut_nadi < 60:\n",
    "        rekomendasi += \"\\nDenyut nadi di bawah 60 bpm, periksa apakah ada gejala bradikardia.\"\n",
    "    else:\n",
    "        rekomendasi += \"\\nDenyut nadi Anda normal.\"\n",
    "\n",
    "    return rekomendasi\n",
    "\n",
    "# Loop untuk mengulang sebanyak 3 kali\n",
    "i = 0\n",
    "while i < 3:\n",
    "    nama = input(\"Masukkan nama pasien: \")\n",
    "    tekanan_sistolik = int(input(f\"Masukkan tekanan darah sistolik (mmHg) {nama}: \"))\n",
    "    tekanan_diastolik = int(input(f\"Masukkan tekanan darah diastolik (mmHg) {nama}: \"))\n",
    "    denyut_nadi = int(input(f\"Masukkan denyut nadi (bpm) {nama}: \"))\n",
    "\n",
    "    # Cetak hasil rekomendasi berdasarkan input\n",
    "    print(f\"\\nHasil untuk {nama}:\")\n",
    "    rekomendasi = cek_kondisi(tekanan_sistolik, tekanan_diastolik, denyut_nadi)\n",
    "    print(rekomendasi)\n",
    "    print(\"-\" * 30)  # Separator\n",
    "    i += 1\n"
   ]
  },
  {
   "cell_type": "code",
   "execution_count": 21,
   "metadata": {},
   "outputs": [
    {
     "name": "stdout",
     "output_type": "stream",
     "text": [
      "Kategori film: A\n",
      "Anggota VIP\n",
      "Jumlah tiket: 6 \n",
      "Harga total yang harus dibayar adalah: Rp.216000.0 \n"
     ]
    }
   ],
   "source": [
    "# Menginput kategori film, keanggotaan dan jumalah tiket yang dibeli\n",
    "kategori_film = input(\"Masukkan kategori film yang ingin ditonton:\")\n",
    "keanggotaan = input(\"Apakah anda anggota VIP?(Y/N)\")\n",
    "jumlah_tiket = int(input(\"Masukkan jumlah tiket yang ingin dibeli:\"))\n",
    "print (f\"Kategori film: {kategori_film}\")\n",
    "\n",
    "\n",
    "# Menentukan harga tiket\n",
    "match kategori_film:\n",
    "    case 'A':\n",
    "        harga_tiket = 50000\n",
    "    case 'B':\n",
    "        harga_tiket = 75000\n",
    "    case 'C':\n",
    "        harga_tiket = 100000\n",
    "    case _:\n",
    "        print(\"Kategori tidak valid\")\n",
    "# Menghitung total harga sebelum diberi diskon\n",
    "total_harga = harga_tiket * jumlah_tiket\n",
    "\n",
    "# Menghitung diskon 20% bagi anggota VIP\n",
    "if keanggotaan == \"Y\":\n",
    "    print(\"Anggota VIP\")\n",
    "    total_harga = total_harga - (total_harga * 0.2)\n",
    "    \n",
    "\n",
    "# Menghitung diskon 10% jika membeli lebih dari 5 tiket\n",
    "if jumlah_tiket > 5:\n",
    "    total_harga = total_harga - (total_harga * 0.1)\n",
    "\n",
    "print(f\"Jumlah tiket: {jumlah_tiket} \\nHarga total yang harus dibayar adalah: Rp.{total_harga} \")\n",
    "   \n",
    "\n",
    "\n"
   ]
  },
  {
   "cell_type": "code",
   "execution_count": 6,
   "metadata": {},
   "outputs": [
    {
     "name": "stdout",
     "output_type": "stream",
     "text": [
      "Total harga yang harus dibayar: Rp 40,000.0\n"
     ]
    }
   ],
   "source": [
    "# Meminta input kategori film dan jumlah tiket yang ingin dibeli\n",
    "kategori_film = input(\"Pilih kategori film (A, B, atau C): \").upper()\n",
    "jumlah_tiket = int(input(\"Masukkan jumlah tiket: \"))\n",
    "anggota_vip = input(\"Apakah Anda anggota VIP? (y/n): \").lower()\n",
    "\n",
    "# Harga tiket berdasarkan kategori film\n",
    "match kategori_film:\n",
    "    case 'A':\n",
    "        harga_tiket = 50000\n",
    "    case 'B':\n",
    "        harga_tiket = 75000\n",
    "    case 'C':\n",
    "        harga_tiket = 100000\n",
    "    case _:\n",
    "        print(\"Kategori film tidak valid\")\n",
    "        harga_tiket = 0\n",
    "\n",
    "# Menghitung total harga sebelum diskon\n",
    "total_harga = harga_tiket * jumlah_tiket\n",
    "\n",
    "# Diskon VIP 20% jika pengguna adalah anggota VIP\n",
    "if anggota_vip == 'y':\n",
    "    total_harga *= 0.8\n",
    "\n",
    "# Diskon tambahan 10% jika membeli lebih dari 5 tiket\n",
    "if jumlah_tiket > 5:\n",
    "    total_harga *= 0.9\n",
    "\n",
    "# Menampilkan total harga yang harus dibayar\n",
    "print(f\"Total harga yang harus dibayar: Rp {total_harga:,}\")\n"
   ]
  },
  {
   "cell_type": "code",
   "execution_count": 1,
   "metadata": {},
   "outputs": [
    {
     "name": "stdout",
     "output_type": "stream",
     "text": [
      "i: 0 \n",
      "total: 0\n",
      "i: 1 \n",
      "total: 1\n",
      "i: 2 \n",
      "total: 3\n",
      "i: 3 \n",
      "total: 6\n",
      "i: 4 \n",
      "total: 10\n",
      "i: 5 \n",
      "total: 15\n",
      "i: 6 \n",
      "total: 21\n",
      "i: 7 \n",
      "total: 28\n",
      "i: 8 \n",
      "total: 36\n",
      "i: 9 \n",
      "total: 45\n"
     ]
    }
   ],
   "source": [
    "i = 0\n",
    "total = 0\n",
    "\n",
    "while i < 10 and i < 50:\n",
    "    total += i\n",
    "    print(f\"i: {i} \\ntotal: {total}\")\n",
    "    i +=1"
   ]
  },
  {
   "cell_type": "code",
   "execution_count": 3,
   "metadata": {},
   "outputs": [
    {
     "name": "stdout",
     "output_type": "stream",
     "text": [
      "perulangan ke-1\n",
      "perulangan ke-2\n",
      "perulangan ke-3\n",
      "perulangan ke-4\n",
      "perulangan ke-5\n",
      "perulangan ke-6\n",
      "perulangan ke-7\n",
      "akhirnya ketemu nomor 7\n"
     ]
    }
   ],
   "source": [
    "found = False\n",
    "i = 0 \n",
    "\n",
    "while not found:\n",
    "    if i == 7:\n",
    "        found = True\n",
    "        print(\"akhirnya ketemu nomor 7\")\n",
    "    else:\n",
    "        i += 1\n",
    "        print(f\"perulangan ke-{i}\")"
   ]
  },
  {
   "cell_type": "code",
   "execution_count": 7,
   "metadata": {},
   "outputs": [
    {
     "name": "stdout",
     "output_type": "stream",
     "text": [
      "gagak\n"
     ]
    }
   ],
   "source": [
    "A = [\"kakatua\", \"merpati\", \"gagak\"]\n",
    "B = A[2]\n",
    "\n",
    "print(B)"
   ]
  },
  {
   "cell_type": "code",
   "execution_count": 10,
   "metadata": {},
   "outputs": [
    {
     "name": "stdout",
     "output_type": "stream",
     "text": [
      "buahnya adalah:['apple', 'semangka', 'durian']\n"
     ]
    }
   ],
   "source": [
    "# Membuat list\n",
    "buahbuahan = [\"apple\", \"mangga\", \"cherry\"]\n",
    "\n",
    "buahbuahan.insert(0, \"jeruk\")\n",
    "# Menambahkan elemen ke dalam list\n",
    "buahbuahan.append(\"durian\")\n",
    "\n",
    "#  Mengakses elemen\n",
    "pilihan = buahbuahan[0], buahbuahan[3] # ini juga disebut tuple\n",
    "\n",
    "# Menghapus via index\n",
    "buahbuahan.pop(0)\n",
    "\n",
    "# Mengubah elemen\n",
    "buahbuahan[1] = \"semangka\"\n",
    "\n",
    "# Menghapus elemen via kata kunci \n",
    "buahbuahan.remove(\"cherry\")\n",
    "\n",
    "print(f\"buahnya adalah:{buahbuahan}\")"
   ]
  },
  {
   "cell_type": "code",
   "execution_count": 46,
   "metadata": {},
   "outputs": [
    {
     "name": "stdout",
     "output_type": "stream",
     "text": [
      "buahnya adalah:['jeruk', 'apple', 'mangga', 'cherry', 'durian']\n"
     ]
    }
   ],
   "source": [
    "buahbuahan = [\"apple\", \"mangga\", \"cherry\"]\n",
    "\n",
    "buahbuahan.insert(0, \"jeruk\")\n",
    "# Menambahkan elemen ke dalam list\n",
    "buahbuahan.append(\"durian\")\n",
    "\n",
    "#  Mengakses elemen\n",
    "pilihan = buahbuahan[0], buahbuahan[3] # ini juga disebut tuple\n",
    "\n",
    "\n",
    "print(f\"buahnya adalah:{buahbuahan}\")"
   ]
  },
  {
   "cell_type": "code",
   "execution_count": 2,
   "metadata": {},
   "outputs": [
    {
     "name": "stdout",
     "output_type": "stream",
     "text": [
      "('apple', 'cherry')\n"
     ]
    }
   ],
   "source": [
    "# Tuple\n",
    "buahbuahan = ('apple', 'banana', 'cherry', 'cherry')\n",
    "\n",
    "coba = buahbuahan[0], buahbuahan[2]\n",
    "\n",
    "print(coba)"
   ]
  },
  {
   "cell_type": "code",
   "execution_count": 11,
   "metadata": {},
   "outputs": [
    {
     "data": {
      "text/plain": [
       "{'Apple', 'apple', 'cherry', 'nanas'}"
      ]
     },
     "execution_count": 11,
     "metadata": {},
     "output_type": "execute_result"
    }
   ],
   "source": [
    "# Membuat set\n",
    "buahbuahan = {'Apple', 'apple', 'cherry'}\n",
    "\n",
    "# Menambahkan elemen via kata kunci\n",
    "buahbuahan.add('nanas')\n",
    "buahbuahan.add('banana')\n",
    "\n",
    "# Mengahapus elemen via kata kunci\n",
    "buahbuahan.remove('banana')\n",
    "buahbuahan"
   ]
  },
  {
   "cell_type": "code",
   "execution_count": 12,
   "metadata": {},
   "outputs": [
    {
     "name": "stdout",
     "output_type": "stream",
     "text": [
      "apple\n",
      "banana\n",
      "cherry\n"
     ]
    }
   ],
   "source": [
    "# List\n",
    "BuahBuahan = ['apple','banana','cherry']\n",
    "\n",
    "for i in range (3):\n",
    "    print(BuahBuahan[i])"
   ]
  },
  {
   "cell_type": "code",
   "execution_count": 3,
   "metadata": {},
   "outputs": [
    {
     "name": "stdout",
     "output_type": "stream",
     "text": [
      "durian\n"
     ]
    }
   ],
   "source": [
    "# List\n",
    "BuahBuahan = ['apple','banana','cherry', 'mangga','durian']\n",
    "\n",
    "for i in range (4,2,-2):\n",
    "    print(BuahBuahan[i])"
   ]
  },
  {
   "cell_type": "code",
   "execution_count": 20,
   "metadata": {},
   "outputs": [
    {
     "name": "stdout",
     "output_type": "stream",
     "text": [
      "B\n",
      "B\n",
      "A\n",
      "A\n",
      "A\n"
     ]
    }
   ],
   "source": [
    "# set\n",
    "nilai = {80,87,35,90,86,90}\n",
    "\n",
    "for i in nilai:\n",
    "    if i  > 80:\n",
    "        print(\"A\")\n",
    "    else:\n",
    "        print(\"B\")"
   ]
  },
  {
   "cell_type": "code",
   "execution_count": 9,
   "metadata": {},
   "outputs": [
    {
     "name": "stdout",
     "output_type": "stream",
     "text": [
      "0 1 2 3 4 5 6 "
     ]
    }
   ],
   "source": [
    "for i in range(0,7):\n",
    "    print(i, end=\" \")"
   ]
  },
  {
   "cell_type": "code",
   "execution_count": 11,
   "metadata": {},
   "outputs": [
    {
     "name": "stdout",
     "output_type": "stream",
     "text": [
      "1\n",
      "2\n",
      "3\n",
      "4\n",
      "5\n",
      "6\n"
     ]
    }
   ],
   "source": [
    "for i in range(1,7):\n",
    "    print(i)"
   ]
  },
  {
   "cell_type": "code",
   "execution_count": 4,
   "metadata": {},
   "outputs": [
    {
     "name": "stdout",
     "output_type": "stream",
     "text": [
      "11 adalah angka ganjil\n",
      "9 adalah angka ganjil\n",
      "7 adalah angka ganjil\n",
      "5 adalah angka ganjil\n",
      "3 adalah angka ganjil\n"
     ]
    }
   ],
   "source": [
    "for i in range(11,1, -2):\n",
    "    print(i,\"adalah angka ganjil\")"
   ]
  },
  {
   "cell_type": "code",
   "execution_count": 18,
   "metadata": {},
   "outputs": [
    {
     "name": "stdout",
     "output_type": "stream",
     "text": [
      "10  9  8  7  6  5  4  3  2  1  "
     ]
    }
   ],
   "source": [
    "i = 10\n",
    "while i >= 1:\n",
    "    print(i, end= \"  \")\n",
    "    i -=1 "
   ]
  },
  {
   "cell_type": "code",
   "execution_count": 19,
   "metadata": {},
   "outputs": [
    {
     "name": "stdout",
     "output_type": "stream",
     "text": [
      "0\n",
      "1\n",
      "2\n",
      "3\n",
      "4\n"
     ]
    }
   ],
   "source": [
    "i = 0\n",
    "\n",
    "while True: \n",
    "    print(i) \n",
    "    i += 1\n",
    "    if i >= 5: \n",
    "        break"
   ]
  },
  {
   "cell_type": "code",
   "execution_count": null,
   "metadata": {},
   "outputs": [
    {
     "name": "stdout",
     "output_type": "stream",
     "text": [
      "apple\n",
      "strawberry\n",
      "orange\n",
      "banana\n",
      "grape\n"
     ]
    }
   ],
   "source": [
    "fruits = [\"apple\", \"strawberry\", \"orange\", \"banana\", \"grape\"]\n",
    "\n",
    "\n",
    "#print(fruits[::3])\n",
    "#for fruit in fruits:\n",
    " #   print(fruit)"
   ]
  },
  {
   "cell_type": "code",
   "execution_count": 5,
   "metadata": {},
   "outputs": [
    {
     "name": "stdout",
     "output_type": "stream",
     "text": [
      "Fungsi untuk mengalikan dua angka.\n",
      "Hasil perkalian: 8\n"
     ]
    }
   ],
   "source": [
    "def masukkan_angka(a,b):\n",
    "    print(\"Fungsi untuk mengalikan dua angka.\")\n",
    "    hasil = a * b\n",
    "    return hasil\n",
    "\n",
    "#  Memanggil fungsi masuskan_angka\n",
    "hasil_perkalian = masukkan_angka(4,2)\n",
    "print(f\"Hasil perkalian: {hasil_perkalian}\") \n"
   ]
  },
  {
   "cell_type": "code",
   "execution_count": null,
   "metadata": {},
   "outputs": [
    {
     "name": "stdout",
     "output_type": "stream",
     "text": [
      "10.5\n"
     ]
    }
   ],
   "source": [
    "nama = 10.5\n",
    "\n",
    "print(nama)"
   ]
  },
  {
   "cell_type": "code",
   "execution_count": 1,
   "metadata": {},
   "outputs": [
    {
     "name": "stdout",
     "output_type": "stream",
     "text": [
      "Fungsi untuk mengalikan dua angka.\n",
      "Hasil perkalian: 8\n"
     ]
    }
   ],
   "source": [
    "def masukkan_angka(a,b):\n",
    "    print(\"Fungsi untuk mengalikan dua angka.\")\n",
    "    return a * b\n",
    "    \n",
    "\n",
    "#  Memanggil fungsi masuskan_angka\n",
    "hasil_perkalian = masukkan_angka(4,2)\n",
    "print(f\"Hasil perkalian: {hasil_perkalian}\") \n"
   ]
  },
  {
   "cell_type": "code",
   "execution_count": 9,
   "metadata": {},
   "outputs": [
    {
     "name": "stdout",
     "output_type": "stream",
     "text": [
      "Maka luas lingkarannya adalah : 314.1592653589793\n"
     ]
    }
   ],
   "source": [
    "import math\n",
    "\n",
    "def hitung_luas_lingkaran(radius):\n",
    "    luas = math.pi * (radius ** 2)\n",
    "    return luas\n",
    "\n",
    "# Memanggil fungsi hitung_luas_lingkaran dengan radius 10\n",
    "hitung_radius = hitung_luas_lingkaran(10)\n",
    "print(f\"Maka luas lingkarannya adalah : {hitung_radius}\")"
   ]
  },
  {
   "cell_type": "code",
   "execution_count": 15,
   "metadata": {},
   "outputs": [
    {
     "name": "stdout",
     "output_type": "stream",
     "text": [
      "Suhunya adalah: 95.72 F\n"
     ]
    }
   ],
   "source": [
    "def konversi_suhu(celcius):\n",
    "    farenheit = celcius * 9/5 + 32\n",
    "    return farenheit\n",
    "\n",
    "konversi = konversi_suhu(35.4)\n",
    "print(f\"Suhunya adalah: {konversi} F\")"
   ]
  },
  {
   "cell_type": "code",
   "execution_count": 27,
   "metadata": {},
   "outputs": [
    {
     "name": "stdout",
     "output_type": "stream",
     "text": [
      "Faktorial dari 5 adalah: 120\n"
     ]
    }
   ],
   "source": [
    "def faktorial(n):\n",
    "  if n == 0 or n == 1:\n",
    "    return 1\n",
    "  else:\n",
    "    return n * faktorial(n - 1)\n",
    "\n",
    "n = 5\n",
    "print(\"Faktorial dari\", n, \"adalah:\", faktorial(n))"
   ]
  },
  {
   "cell_type": "code",
   "execution_count": 3,
   "metadata": {},
   "outputs": [
    {
     "name": "stdout",
     "output_type": "stream",
     "text": [
      "Nama: angel \n",
      "Berat badan: 48 kg \n",
      "Tinggi badan: 1.57 m \n",
      "Kategori IMT: Normal weight \n",
      "IMT : 19.473406629072173\n",
      "===========================\n",
      "Nama: angelina \n",
      "Berat badan: 38 kg \n",
      "Tinggi badan: 1.55 m \n",
      "Kategori IMT: Underweight \n",
      "IMT : 15.81685744016649\n",
      "===========================\n",
      "Nama: njele \n",
      "Berat badan: 68 kg \n",
      "Tinggi badan: 1.71 m \n",
      "Kategori IMT: Normal weight \n",
      "IMT : 23.25501863821347\n",
      "===========================\n"
     ]
    }
   ],
   "source": [
    "def hitung_IMT(weight,  height):\n",
    "    return weight / (height * height)\n",
    "\n",
    "def kategori_IMT(IMT):\n",
    "    if IMT  < 18.5:\n",
    "       return \"Underweight\"\n",
    "    elif 18.5 <= IMT < 25:\n",
    "        return \"Normal weight\"\n",
    "    elif 25 <= IMT < 30:\n",
    "        return \"Overweight\"\n",
    "    else:\n",
    "        return \"Obesity\"\n",
    "    \n",
    "\n",
    "i = 0\n",
    "while i < 3:\n",
    "    nama  = input(\"Masukkan nama Anda: \")\n",
    "    weight = int(input(\"Masukkan berat  badan(kg): \")) \n",
    "    height = float(input(\"Masukkan tinggi badan (m): \"))\n",
    "   \n",
    "\n",
    "    hasil_IMT = hitung_IMT(weight, height)\n",
    "    kategori =  kategori_IMT(hasil_IMT)\n",
    "\n",
    "    print(f\"Nama: {nama} \\nBerat badan: {weight} kg \\nTinggi badan: {height} m \\nKategori IMT: {kategori} \\nIMT : {hasil_IMT}\")\n",
    "    print(\"===========================\") \n",
    "    i +=1\n",
    "\n",
    "\n",
    " "
   ]
  },
  {
   "cell_type": "code",
   "execution_count": 29,
   "metadata": {},
   "outputs": [
    {
     "name": "stdout",
     "output_type": "stream",
     "text": [
      "Yeuyyy kocakk salah dong itu\n",
      "hasil function gaada\n"
     ]
    }
   ],
   "source": [
    "def coba_percabangan(a,b):\n",
    "    if a > b:\n",
    "        print(\"hitungin dong\")\n",
    "        hasil = a * b \n",
    "    else:\n",
    "        print (\"Yeuyyy kocakk salah dong itu\")\n",
    "        hasil =  \"gaada\"\n",
    "    return hasil\n",
    "\n",
    "cobain_terus = coba_percabangan(1,2)\n",
    "print(f\"hasil function {cobain_terus}\")\n"
   ]
  },
  {
   "cell_type": "code",
   "execution_count": 9,
   "metadata": {},
   "outputs": [
    {
     "name": "stdout",
     "output_type": "stream",
     "text": [
      "Hasil penjumlahan: 58\n",
      "rata-rata adalah 8.285714285714286\n"
     ]
    }
   ],
   "source": [
    "def tambah_semua(*args):\n",
    "    return sum(args)\n",
    "\n",
    "#Memanggil fungsi\n",
    "hasil = tambah_semua(1, 2, 3, 4, 10, 19, 19)\n",
    "rata_rata = hasil/ 7\n",
    "print(f\"Hasil penjumlahan: {hasil}\")\n",
    "print(f\"rata-rata adalah {rata_rata}\")"
   ]
  },
  {
   "cell_type": "code",
   "execution_count": 8,
   "metadata": {},
   "outputs": [
    {
     "name": "stdout",
     "output_type": "stream",
     "text": [
      "Jadi rata-rata nilaikamu adalah 84.5\n",
      "Nilai akhir kamu adalah: A\n"
     ]
    }
   ],
   "source": [
    "def rata_rata_nilai(marks):\n",
    "    jumlah_nilai = sum(marks)\n",
    "    banyak_nilai = len(marks)\n",
    "    rata_rata = jumlah_nilai / banyak_nilai\n",
    "    return rata_rata\n",
    "\n",
    "def nilai_akhir(rata_rata_nilai):\n",
    "    if rata_rata_nilai >= 80:\n",
    "        grade = 'A'\n",
    "    elif rata_rata_nilai >= 70 and rata_rata_nilai < 80:\n",
    "        grade = 'B'\n",
    "    elif rata_rata_nilai >= 60 and rata_rata_nilai < 70:\n",
    "        grade = 'C'\n",
    "    elif rata_rata_nilai >= 50 and rata_rata_nilai < 60:\n",
    "        grade = 'D'\n",
    "    else:\n",
    "        grade = 'E'\n",
    "    return grade\n",
    "\n",
    "\n",
    "marks = [92, 83, 74, 85, 96, 77]\n",
    "rata_rata_fiks = rata_rata_nilai(marks)\n",
    "print(\"Jadi rata-rata nilaikamu adalah\", rata_rata_fiks)\n",
    "\n",
    "grade = nilai_akhir(rata_rata_fiks)\n",
    "print(\"Nilai akhir kamu adalah:\", grade)"
   ]
  },
  {
   "cell_type": "code",
   "execution_count": 14,
   "metadata": {},
   "outputs": [
    {
     "name": "stdout",
     "output_type": "stream",
     "text": [
      "Hello Angel\n",
      "How's your day?\n"
     ]
    }
   ],
   "source": [
    "def greet(name,message):\n",
    "    print(\"Hello\", name)\n",
    "    print(message)\n",
    "   \n",
    "greet(\"Angel\",\"How's your day?\")\n",
    " # This is the same as the previous line.  # This is the\n"
   ]
  },
  {
   "cell_type": "code",
   "execution_count": null,
   "metadata": {},
   "outputs": [
    {
     "name": "stdout",
     "output_type": "stream",
     "text": [
      "Ini adalah fungsi luar dengan parameter: Angelina\n",
      "Ini adalah fungsi dalam dengan parameter: dalam\n"
     ]
    }
   ],
   "source": [
    "# Function di dalam function\n",
    "def luar(argumen1):\n",
    "    print(f\"Ini adalah fungsi luar dengan parameter: {argumen1}\")\n",
    "\n",
    "    def dalam(inner_param):\n",
    "        print(f\"Ini adalah fungsi dalam dengan parameter: {inner_param}\")\n",
    "    # Memamanggil fungsi dalam\n",
    "    dalam(\"dalam\")\n",
    "luar(\"Angelina\")"
   ]
  },
  {
   "cell_type": "code",
   "execution_count": 4,
   "metadata": {},
   "outputs": [
    {
     "name": "stdout",
     "output_type": "stream",
     "text": [
      "perulangan ke: 0\n",
      "perulangan ke: 1\n",
      "perulangan ke: 2\n",
      "perulangan ke: 3\n",
      "perulangan ke: 4\n"
     ]
    },
    {
     "data": {
      "text/plain": [
       "625"
      ]
     },
     "execution_count": 4,
     "metadata": {},
     "output_type": "execute_result"
    }
   ],
   "source": [
    "def percabangan(a,b):\n",
    "    if a > b:\n",
    "        hitung = a ** b\n",
    "    else:\n",
    "        print(\"gaada\")\n",
    "    def perulangan(z):\n",
    "        i = 0\n",
    "        while i < z:\n",
    "            print(f\"perulangan ke: {i}\")\n",
    "            i+=1\n",
    "        return i\n",
    "    a = perulangan(5)\n",
    "    #print(a)\n",
    "    return hitung\n",
    "percabangan(5,4)"
   ]
  },
  {
   "cell_type": "code",
   "execution_count": 11,
   "metadata": {},
   "outputs": [
    {
     "data": {
      "text/plain": [
       "['angel', 'sondang']"
      ]
     },
     "execution_count": 11,
     "metadata": {},
     "output_type": "execute_result"
    }
   ],
   "source": [
    "nama_pasien = []\n",
    "jumlah_pasien = int(input(\"masukkan jumlah pasien :\"))\n",
    "for i in range(jumlah_pasien):\n",
    "    pasien = input(f\"masukkan pasien  ke {i+1} :\")\n",
    "    nama_pasien.append(pasien)\n",
    "nama_pasien"
   ]
  },
  {
   "cell_type": "code",
   "execution_count": 12,
   "metadata": {},
   "outputs": [
    {
     "name": "stdout",
     "output_type": "stream",
     "text": [
      "\n",
      "Nama-nama pasien yang telah dimasukkan:\n",
      "angel\n",
      "sondang\n"
     ]
    }
   ],
   "source": [
    "# Memasukkan jumlah pasien\n",
    "jumlah_pasien = int(input(\"Masukkan jumlah pasien: \"))\n",
    "\n",
    "# Memasukkan list untuk menyimpan nama pasien\n",
    "nama_pasien = []\n",
    "\n",
    "# Menggunkan perulangn untuk memasukkan nama setiap pasien\n",
    "for i in range(jumlah_pasien):\n",
    "    nama = input(f\"Masukkan nama pasien ke {i+1}\")\n",
    "    nama_pasien.append(nama)\n",
    "print(\"\\nNama-nama pasien yang telah dimasukkan:\")\n",
    "for z in nama_pasien:\n",
    "    print(z)"
   ]
  },
  {
   "cell_type": "code",
   "execution_count": 2,
   "metadata": {},
   "outputs": [
    {
     "ename": "ValueError",
     "evalue": "invalid literal for int() with base 10: ''",
     "output_type": "error",
     "traceback": [
      "\u001b[1;31m---------------------------------------------------------------------------\u001b[0m",
      "\u001b[1;31mValueError\u001b[0m                                Traceback (most recent call last)",
      "Cell \u001b[1;32mIn[2], line 9\u001b[0m\n\u001b[0;32m      7\u001b[0m \u001b[38;5;28;01mfor\u001b[39;00m i \u001b[38;5;129;01min\u001b[39;00m \u001b[38;5;28mrange\u001b[39m (jumlah_pasien):\n\u001b[0;32m      8\u001b[0m     nama \u001b[38;5;241m=\u001b[39m \u001b[38;5;28minput\u001b[39m(\u001b[38;5;124mf\u001b[39m\u001b[38;5;124m\"\u001b[39m\u001b[38;5;124mMasukkan nama pasien ke \u001b[39m\u001b[38;5;132;01m{\u001b[39;00mi\u001b[38;5;241m+\u001b[39m\u001b[38;5;241m1\u001b[39m\u001b[38;5;132;01m}\u001b[39;00m\u001b[38;5;124m\"\u001b[39m)\n\u001b[1;32m----> 9\u001b[0m     detak \u001b[38;5;241m=\u001b[39m  \u001b[38;5;28;43mint\u001b[39;49m\u001b[43m(\u001b[49m\u001b[38;5;28;43minput\u001b[39;49m\u001b[43m(\u001b[49m\u001b[38;5;124;43mf\u001b[39;49m\u001b[38;5;124;43m\"\u001b[39;49m\u001b[38;5;124;43mMasukkan detak jantung pasien \u001b[39;49m\u001b[38;5;132;43;01m{\u001b[39;49;00m\u001b[43mnama\u001b[49m\u001b[38;5;132;43;01m}\u001b[39;49;00m\u001b[38;5;124;43m:\u001b[39;49m\u001b[38;5;124;43m\"\u001b[39;49m\u001b[43m)\u001b[49m\u001b[43m)\u001b[49m\n\u001b[0;32m     10\u001b[0m     durasi_dlm_menit \u001b[38;5;241m=\u001b[39m (\u001b[38;5;28mint\u001b[39m(\u001b[38;5;28minput\u001b[39m(\u001b[38;5;124m\"\u001b[39m\u001b[38;5;124mMasukkan durasi detak jantung dalam satuan menit:\u001b[39m\u001b[38;5;124m\"\u001b[39m)))\n\u001b[0;32m     11\u001b[0m     detak_per_detik  \u001b[38;5;241m=\u001b[39m durasi_dlm_menit \u001b[38;5;241m*\u001b[39m \u001b[38;5;241m60\u001b[39m\n",
      "\u001b[1;31mValueError\u001b[0m: invalid literal for int() with base 10: ''"
     ]
    }
   ],
   "source": [
    "jumlah_pasien = int(input(\"Masukkan jumlah pasien\"))\n",
    "\n",
    "nama_pasien = []\n",
    "detak_jantung = []  \n",
    "\n",
    "\n",
    "for i in range (jumlah_pasien):\n",
    "    nama = input(f\"Masukkan nama pasien ke {i+1}\")\n",
    "    detak =  int(input(f\"Masukkan detak jantung pasien {nama}:\"))\n",
    "    durasi_dlm_menit = (int(input(\"Masukkan durasi detak jantung dalam satuan menit:\")))\n",
    "    detak_per_detik  = durasi_dlm_menit * 60\n",
    "    detak_jantung_per_detik = detak / detak_per_detik\n",
    "\n",
    "    nama_pasien.append(nama)\n",
    "    detak_jantung.append(detak_jantung_per_detik)\n",
    "\n",
    "rata_rata = sum(detak_jantung)/jumlah_pasien\n",
    "print(f\"\\nRata-rata detak jantung pasien adalah {rata_rata} detik\")\n",
    "\n",
    "print(\"\\nNama-nama pasien yang memiliki detak jantung lebih dari 120 per detik:\")\n",
    "ada_pasien = False\n",
    "for  i in range (jumlah_pasien):\n",
    "    if detak > 120:\n",
    "        print(nama_pasien[i])\n",
    "        ada_pasien = True\n",
    "if not  detak > 120:\n",
    "    print(\"Tidak ada pasien yang memiliki detak jantung lebih dari 120 per detik\")\n",
    "   \n",
    "\n",
    "\n"
   ]
  },
  {
   "cell_type": "code",
   "execution_count": null,
   "metadata": {},
   "outputs": [],
   "source": []
  },
  {
   "cell_type": "code",
   "execution_count": 10,
   "metadata": {},
   "outputs": [
    {
     "name": "stdout",
     "output_type": "stream",
     "text": [
      "\n",
      "Rata-rata detak jantung pasien adalah 0.71 detik\n",
      "\n",
      "Nama-nama pasien yang memiliki detak jantung lebih dari 120 per detik:\n",
      "Tidak ada pasien yang memiliki detak jantung lebih dari 120 per detik\n"
     ]
    }
   ],
   "source": [
    "jumlah_pasien = int(input(\"Masukkan jumlah pasien: \"))\n",
    "\n",
    "nama_pasien = []\n",
    "detak_jantung_per_detik = []\n",
    "\n",
    "for i in range(jumlah_pasien):    \n",
    "    nama = input(f\"Masukkan nama pasien ke-{i+1}: \")\n",
    "    detak_total = int(input(f\"Masukkan total detak jantung pasien {nama}: \"))\n",
    "    durasi_menit = int(input(f\"Masukkan durasi waktu (dalam menit) untuk detak tersebut: \"))\n",
    "    \n",
    "    # Hitung detak per menit dan kemudian konversi ke detak per detik\n",
    "    detak_per_menit = detak_total / durasi_menit\n",
    "    detak_per_detik = detak_per_menit / 60  \n",
    "\n",
    "    nama_pasien.append(nama)\n",
    "    detak_jantung_per_detik.append(detak_per_detik)\n",
    "\n",
    "# Hitung rata-rata detak jantung per detik\n",
    "rata_rata = sum(detak_jantung_per_detik) / jumlah_pasien\n",
    "print(f\"\\nRata-rata detak jantung pasien adalah {rata_rata:.2f} detik\")\n",
    "\n",
    "# Cari pasien yang memiliki detak jantung lebih dari 120 per detik\n",
    "print(\"\\nNama-nama pasien yang memiliki detak jantung lebih dari 120 per detik:\")\n",
    "ada_pasien = False\n",
    "for i in range(jumlah_pasien):\n",
    "    if detak_jantung_per_detik[i] > 120:              \n",
    "        print(nama_pasien[i])\n",
    "        ada_pasien = True\n",
    "\n",
    "if not ada_pasien:\n",
    "    print(\"Tidak ada pasien yang memiliki detak jantung lebih dari 120 per detik\")\n"
   ]
  },
  {
   "cell_type": "code",
   "execution_count": null,
   "metadata": {},
   "outputs": [
    {
     "name": "stdout",
     "output_type": "stream",
     "text": [
      "Rata-rata tekanan darah sistolik: 131.0\n",
      "Rata-rata tekanan darah diastolik: 85.5\n",
      "\n",
      "Nama-nama pasien yang memiliki tekanan dara sistolik lebih dari 140 dan diastolik lebih kecil dari 90:\n",
      "njele\n",
      "Pasien diatas dinyatakan hipertensi\n"
     ]
    }
   ],
   "source": [
    "jumlah_pasien = int(input(\"Masukkan jumlah pasien\")) # Memasukkan jumlah pasien\n",
    "\n",
    "nama_pasien = [] # Menyimpan nama pasien\n",
    "tekanan_sistolik = [] # Menyimpan tekanan darah sistolik\n",
    "tekanan_diastolik = [] # Menyimpan tekanan darah diastolik\n",
    "\n",
    "for i in range(jumlah_pasien): # Mengulang untuk jumlah pasien\n",
    "    nama = input(f\"Masukkan nama pasien ke {i+1}:\") # Memasukkan nama pasien\n",
    "    sistolik = int(input(f\"Masukkan tekanan darah sistolik pasien ke{i+1}:\")) # Memasukkan tekanan darah sistollik pasien\n",
    "    diastolik = int(input(f\"Masukkan tekanan darah diastolik pasien ke{i+1}:\")) # Memasukkan tekanan darah diastolik pasien\n",
    "\n",
    "    nama_pasien.append(nama)\n",
    "    tekanan_sistolik.append(sistolik)\n",
    "    tekanan_diastolik.append(diastolik)\n",
    "\n",
    "rata_rata_sistolik = sum(tekanan_sistolik) / jumlah_pasien # Menghitung rata-rata tekanan darah sistolik\n",
    "rata_rata_diastolik = sum(tekanan_diastolik) / jumlah_pasien # Menghitung rata-rata tekanan darah diastolik\n",
    "print(f\"Rata-rata tekanan darah sistolik: {rata_rata_sistolik}\")\n",
    "print(f\"Rata-rata tekanan darah diastolik: {rata_rata_diastolik}\")\n",
    "\n",
    "print(\"\\nNama-nama pasien yang memiliki tekanan dara sistolik lebih dari 140 dan diastolik lebih dari 90:\")\n",
    "for i in range (jumlah_pasien): # Mengulang untuk jumlah pasien\n",
    "    if tekanan_sistolik[i] > 140 or tekanan_diastolik[i] > 90: # Jika tekanan darah sistolik lebih dari 140 atau tekan\n",
    "        print(nama_pasien[i])\n",
    "        print(\"Pasien diatas dinyatakan hipertensi\")\n",
    "\n",
    "\n",
    "    \n",
    "\n",
    "\n",
    "\n",
    "\n"
   ]
  },
  {
   "cell_type": "code",
   "execution_count": 42,
   "metadata": {},
   "outputs": [
    {
     "name": "stdout",
     "output_type": "stream",
     "text": [
      "Jumlah semua angka dalam list: 15\n"
     ]
    }
   ],
   "source": [
    "def jumlahkan_angka(daftar_angka):\n",
    "    total = sum(daftar_angka)\n",
    "    return total\n",
    "\n",
    "# Contoh penggunaan\n",
    "angka = [1, 2, 3, 4, 5]\n",
    "print(\"Jumlah semua angka dalam list:\", jumlahkan_angka(angka))\n"
   ]
  },
  {
   "cell_type": "code",
   "execution_count": 1,
   "metadata": {},
   "outputs": [
    {
     "name": "stdout",
     "output_type": "stream",
     "text": [
      "Total Pasien Normal: 3\n",
      "Total Pasien Demam: 3\n"
     ]
    }
   ],
   "source": [
    "suhu_pasien = [36.5, 38.2, 37.0, 39.1, 37.8, 36.9, 36.0, 38.5]\n",
    "\n",
    "total_normal = 0\n",
    "total_demam = 0\n",
    "\n",
    "i = 0\n",
    "\n",
    "while i < 6:\n",
    "    if suhu_pasien[i] > 37.5:\n",
    "        total_demam += 1\n",
    "    else:\n",
    "        total_normal += 1\n",
    "    i += 1\n",
    "\n",
    "print(\"Total Pasien Normal:\", total_normal)\n",
    "print(\"Total Pasien Demam:\", total_demam)"
   ]
  },
  {
   "cell_type": "code",
   "execution_count": 1,
   "metadata": {},
   "outputs": [],
   "source": [
    "# Membuat kamus kosong\n",
    "kamusku = {}\n",
    "# Membuat kamus dengan data awal\n",
    "kamusku = {'Nama':'Angel', 'usia': '19', 'kota':'Bandung' }"
   ]
  },
  {
   "cell_type": "code",
   "execution_count": 3,
   "metadata": {},
   "outputs": [
    {
     "name": "stdout",
     "output_type": "stream",
     "text": [
      "nama saya adalah Angel\n"
     ]
    }
   ],
   "source": [
    "nama_saya = kamusku['Nama']\n",
    "print (f'nama saya adalah {nama_saya}')"
   ]
  },
  {
   "cell_type": "code",
   "execution_count": 4,
   "metadata": {},
   "outputs": [
    {
     "name": "stdout",
     "output_type": "stream",
     "text": [
      "Usia saya adalah 19 tahun\n"
     ]
    }
   ],
   "source": [
    "usia_saya = kamusku['usia']\n",
    "print(f'Usia saya adalah {usia_saya} tahun')\n"
   ]
  },
  {
   "cell_type": "code",
   "execution_count": 5,
   "metadata": {},
   "outputs": [
    {
     "name": "stdout",
     "output_type": "stream",
     "text": [
      "Saya tinggal di kota Bandung\n"
     ]
    }
   ],
   "source": [
    "kota_saya = kamusku['kota']\n",
    "print(f'Saya tinggal di kota {kota_saya}')"
   ]
  },
  {
   "cell_type": "code",
   "execution_count": null,
   "metadata": {},
   "outputs": [
    {
     "data": {
      "text/plain": [
       "{'Nama': 'Angel', 'usia': '20', 'pekerjaan': 'programmer'}"
      ]
     },
     "execution_count": 8,
     "metadata": {},
     "output_type": "execute_result"
    }
   ],
   "source": [
    "kamusku = {'Nama':'Angel', 'usia': '19', 'kota':'Bandung' }\n",
    "# Menambahkanitem baru\n",
    "kamusku['pekerjaan'] ='programmer'\n",
    "kamusku\n",
    "\n",
    "# Memodifikaksi item yang ada\n",
    "kamusku['usia'] = '20'\n",
    "kamusku\n",
    "\n",
    "# Menghapus item\n",
    "#del kamusku['kota']\n",
    "#kamusku"
   ]
  },
  {
   "cell_type": "code",
   "execution_count": 12,
   "metadata": {},
   "outputs": [
    {
     "data": {
      "text/plain": [
       "'20'"
      ]
     },
     "execution_count": 12,
     "metadata": {},
     "output_type": "execute_result"
    }
   ],
   "source": [
    "# Menghapus item\n",
    "#del kamusku['kota']\n",
    "#kamusku\n",
    "\n",
    "# Menggunakan pop untuk menghapus danmendapatkan nilai dimasukkan k dalam variabel\n",
    "usia = kamusku.pop('usia')\n",
    "usia"
   ]
  },
  {
   "cell_type": "code",
   "execution_count": 11,
   "metadata": {},
   "outputs": [
    {
     "data": {
      "text/plain": [
       "{'a': 1, 'b': 2, 'c': 3, 'd': 4}"
      ]
     },
     "execution_count": 11,
     "metadata": {},
     "output_type": "execute_result"
    }
   ],
   "source": [
    "# Update untuk mengubah\n",
    "dict1 = {'a': 1, 'b': 2}\n",
    "dict2 = {'c': 3, 'd': 4}\n",
    "dict1.update(dict2)\n",
    "dict1"
   ]
  },
  {
   "cell_type": "code",
   "execution_count": null,
   "metadata": {},
   "outputs": [
    {
     "name": "stdout",
     "output_type": "stream",
     "text": [
      "Nama Angel\n",
      "usia 17\n",
      "kota Bandung\n"
     ]
    }
   ],
   "source": [
    "# Perulangan for berbasis kunci\n",
    "kamusku = {'Nama':'Angel', 'usia': '19', 'kota':'Bandung' }\n",
    "kamusku['usia'] = 17\n",
    "\n",
    "for i in kamusku:\n",
    "    print(i, kamusku[i])"
   ]
  },
  {
   "cell_type": "code",
   "execution_count": 16,
   "metadata": {},
   "outputs": [
    {
     "name": "stdout",
     "output_type": "stream",
     "text": [
      "Angel\n",
      "18\n",
      "Ruteng\n"
     ]
    }
   ],
   "source": [
    "# Perulangan berbasis value\n",
    "# kamusku1 = {'Nama':'Angel', 'usia': '19', 'kota':'Bandung' }\n",
    "kamusku['usia'] = 18\n",
    "kamusku['kota'] = 'Ruteng'\n",
    "\n",
    "for i in kamusku.values():\n",
    "    print(i)"
   ]
  },
  {
   "cell_type": "code",
   "execution_count": 21,
   "metadata": {},
   "outputs": [
    {
     "name": "stdout",
     "output_type": "stream",
     "text": [
      "Nama Angel\n",
      "usia 18\n",
      "kota Ruteng\n"
     ]
    }
   ],
   "source": [
    "# Perulangan berbasis item\n",
    "\n",
    "for i, j in kamusku.items():\n",
    "    print(i, j)"
   ]
  },
  {
   "cell_type": "code",
   "execution_count": 6,
   "metadata": {},
   "outputs": [],
   "source": [
    "dictionary_banyak = {\n",
    "    'orang1' : {'nama': 'Angel', 'usia' : 17},\n",
    "    'orang2' : {'nama': 'Sondang', 'usia' : 18}\n",
    "}"
   ]
  },
  {
   "cell_type": "code",
   "execution_count": 7,
   "metadata": {},
   "outputs": [
    {
     "name": "stdout",
     "output_type": "stream",
     "text": [
      "ID orang: orang1\n",
      "Nama: Angel\n",
      "Umur: 17\n",
      "\n",
      "ID orang: orang2\n",
      "Nama: Sondang\n",
      "Umur: 18\n",
      "\n"
     ]
    }
   ],
   "source": [
    "for i, j in dictionary_banyak.items():\n",
    "    print(f'ID orang: {i}')\n",
    "    print(f'Nama: {j['nama']}')\n",
    "    print(f'Umur: {j['usia']}\\n')\n"
   ]
  },
  {
   "cell_type": "code",
   "execution_count": 8,
   "metadata": {},
   "outputs": [
    {
     "name": "stdout",
     "output_type": "stream",
     "text": [
      "ID orang: orang1\n",
      "Nama: Angel\n",
      "Umur: 17\n",
      "\n",
      "ID orang: orang2\n",
      "Nama: Sondang\n",
      "Umur: 18\n",
      "\n"
     ]
    }
   ],
   "source": [
    "for i, j in dictionary_banyak.items():\n",
    "    print(f'ID orang: {i}')\n",
    "    print(f'Nama: {j['nama']}')\n",
    "    print(f'Umur: {j['usia']}\\n')"
   ]
  },
  {
   "cell_type": "code",
   "execution_count": 41,
   "metadata": {},
   "outputs": [],
   "source": [
    "data_limbah = {\n",
    "    'lokasi1':{\n",
    "        'nama_lokasi': 'Area Kota 1',\n",
    "        'jumlah_limbah': {\n",
    "            'plastik': 500,\n",
    "            'organik': 300,\n",
    "            'logam' : 200\n",
    "        }\n",
    "    },\n",
    "    'lokasi2':{\n",
    "        'nama_lokasi': 'Area Kota 2',\n",
    "        'jumlah_limbah': {\n",
    "            'plastik': 700,\n",
    "            'organik': 400,\n",
    "            'logam' : 250\n",
    "        }  \n",
    "    },\n",
    "     'lokasi3':{\n",
    "        'nama_lokasi': 'Area Kota 3',\n",
    "        'jumlah_limbah': {\n",
    "            'plastik': 600,\n",
    "            'organik': 350,\n",
    "            'logam' : 300\n",
    "        }  \n",
    "    }\n",
    "}\n",
    "\n",
    "\n"
   ]
  },
  {
   "cell_type": "code",
   "execution_count": 68,
   "metadata": {},
   "outputs": [
    {
     "ename": "KeyError",
     "evalue": "('lokasi2', 'plastik')",
     "output_type": "error",
     "traceback": [
      "\u001b[1;31m---------------------------------------------------------------------------\u001b[0m",
      "\u001b[1;31mKeyError\u001b[0m                                  Traceback (most recent call last)",
      "Cell \u001b[1;32mIn[68], line 2\u001b[0m\n\u001b[0;32m      1\u001b[0m \u001b[38;5;28;01mfor\u001b[39;00m i,j \u001b[38;5;129;01min\u001b[39;00m data_limbah\u001b[38;5;241m.\u001b[39mitems():\n\u001b[1;32m----> 2\u001b[0m     lokasinya \u001b[38;5;241m=\u001b[39m \u001b[43mj\u001b[49m\u001b[43m[\u001b[49m\u001b[38;5;124;43m'\u001b[39;49m\u001b[38;5;124;43mlokasi2\u001b[39;49m\u001b[38;5;124;43m'\u001b[39;49m\u001b[43m,\u001b[49m\u001b[43m \u001b[49m\u001b[38;5;124;43m'\u001b[39;49m\u001b[38;5;124;43mplastik\u001b[39;49m\u001b[38;5;124;43m'\u001b[39;49m\u001b[43m]\u001b[49m\n\u001b[0;32m      3\u001b[0m     jumlah \u001b[38;5;241m=\u001b[39m j[\u001b[38;5;124m'\u001b[39m\u001b[38;5;124mjumlah_limbah\u001b[39m\u001b[38;5;124m'\u001b[39m]\n",
      "\u001b[1;31mKeyError\u001b[0m: ('lokasi2', 'plastik')"
     ]
    }
   ],
   "source": [
    "for i,j in data_limbah.items():\n",
    "    lokasinya = j['lokasi2', 'plastik']\n",
    "    jumlah = j['jumlah_limbah']"
   ]
  },
  {
   "cell_type": "code",
   "execution_count": 62,
   "metadata": {},
   "outputs": [
    {
     "ename": "AttributeError",
     "evalue": "'set' object has no attribute 'items'",
     "output_type": "error",
     "traceback": [
      "\u001b[1;31m---------------------------------------------------------------------------\u001b[0m",
      "\u001b[1;31mAttributeError\u001b[0m                            Traceback (most recent call last)",
      "Cell \u001b[1;32mIn[62], line 3\u001b[0m\n\u001b[0;32m      1\u001b[0m lokasi_1 \u001b[38;5;241m=\u001b[39m {\u001b[38;5;124m'\u001b[39m\u001b[38;5;124mlokasi1\u001b[39m\u001b[38;5;124m'\u001b[39m}\n\u001b[1;32m----> 3\u001b[0m \u001b[38;5;28;01mfor\u001b[39;00m i,j \u001b[38;5;129;01min\u001b[39;00m \u001b[43mlokasi_1\u001b[49m\u001b[38;5;241;43m.\u001b[39;49m\u001b[43mitems\u001b[49m():\n\u001b[0;32m      4\u001b[0m     \u001b[38;5;28mprint\u001b[39m (\u001b[38;5;124mf\u001b[39m\u001b[38;5;124m\"\u001b[39m\u001b[38;5;124mLokasi: \u001b[39m\u001b[38;5;132;01m{\u001b[39;00mi\u001b[38;5;132;01m}\u001b[39;00m\u001b[38;5;124m\"\u001b[39m)\n\u001b[0;32m      5\u001b[0m     \u001b[38;5;28mprint\u001b[39m (\u001b[38;5;124mf\u001b[39m\u001b[38;5;124m\"\u001b[39m\u001b[38;5;124mJumlah Limbah: \u001b[39m\u001b[38;5;132;01m{\u001b[39;00mj\u001b[38;5;132;01m}\u001b[39;00m\u001b[38;5;124m\"\u001b[39m)\n",
      "\u001b[1;31mAttributeError\u001b[0m: 'set' object has no attribute 'items'"
     ]
    }
   ],
   "source": [
    "lokasi_1 = {'lokasi1'}\n",
    "\n",
    "for i,j in lokasi_1.items():\n",
    "    print (f\"Lokasi: {i}\")\n",
    "    print (f\"Jumlah Limbah: {j}\")\n",
    "\n",
    "\n",
    "    "
   ]
  },
  {
   "cell_type": "code",
   "execution_count": 1,
   "metadata": {},
   "outputs": [
    {
     "ename": "NameError",
     "evalue": "name 'data_limbah' is not defined",
     "output_type": "error",
     "traceback": [
      "\u001b[1;31m---------------------------------------------------------------------------\u001b[0m",
      "\u001b[1;31mNameError\u001b[0m                                 Traceback (most recent call last)",
      "Cell \u001b[1;32mIn[1], line 1\u001b[0m\n\u001b[1;32m----> 1\u001b[0m \u001b[38;5;28mprint\u001b[39m(\u001b[43mdata_limbah\u001b[49m[\u001b[38;5;124m'\u001b[39m\u001b[38;5;124mlokasi3\u001b[39m\u001b[38;5;124m'\u001b[39m][\u001b[38;5;124m'\u001b[39m\u001b[38;5;124mnama_lokasi\u001b[39m\u001b[38;5;124m'\u001b[39m])\n",
      "\u001b[1;31mNameError\u001b[0m: name 'data_limbah' is not defined"
     ]
    }
   ],
   "source": [
    "print(data_limbah['lokasi3']['nama_lokasi'])\n",
    "    \n",
    "    \n"
   ]
  },
  {
   "cell_type": "code",
   "execution_count": 10,
   "metadata": {},
   "outputs": [
    {
     "name": "stdout",
     "output_type": "stream",
     "text": [
      "Jumlah sampah anorganik : 250 kg\n",
      "Lokasi pembuangan sampah organik : TPA Organik\n"
     ]
    }
   ],
   "source": [
    "data_sampah = {\n",
    "   'sampah_organik' : {'jumlah': 120 , 'lokasi_pembuangan': 'TPA Organik'},\n",
    "   'sampah_anorganik': {'jumlah' : 250 , 'lokasi_pembuangan':'Pusat Daur Ulang'},\n",
    "   'sampah_B3': {'jumlah' : 100 , 'lokasi_pembuangan':'Tempat Pengelolaan B3'}\n",
    "}\n",
    "\n",
    "anorganik = data_sampah['sampah_anorganik']['jumlah']\n",
    "print(f\"Jumlah sampah anorganik : {anorganik} kg\")\n",
    "\n",
    "organik = data_sampah['sampah_organik']['lokasi_pembuangan']\n",
    "print(f\"Lokasi pembuangan sampah organik : {organik}\")"
   ]
  },
  {
   "cell_type": "code",
   "execution_count": 11,
   "metadata": {},
   "outputs": [
    {
     "data": {
      "text/plain": [
       "{'sampah_organik': {'jumlah': 130, 'lokasi_pembuangan': 'TPA Organik'},\n",
       " 'sampah_anorganik': {'jumlah': 250, 'lokasi_pembuangan': 'Pusat Daur Ulang'},\n",
       " 'sampah_B3': {'jumlah': 100, 'lokasi_pembuangan': 'Tempat Pengelolaan B3'},\n",
       " 'elektronik': {'jumlah': 100, 'lokasi_pembuangan': 'TPA'}}"
      ]
     },
     "execution_count": 11,
     "metadata": {},
     "output_type": "execute_result"
    }
   ],
   "source": [
    "data_sampah['elektronik'] = {'jumlah': 100, 'lokasi_pembuangan' : 'TPA'}\n",
    "data_sampah ['sampah_organik']['jumlah'] = 130\n",
    "data_sampah\n",
    "\n"
   ]
  },
  {
   "cell_type": "code",
   "execution_count": 12,
   "metadata": {},
   "outputs": [
    {
     "name": "stdout",
     "output_type": "stream",
     "text": [
      "Pengelolaan intensif diperlukan untuk sampah_organik.\n",
      "Pengelolaan intensif diperlukan untuk sampah_anorganik.\n",
      "sampah_B3 dalam batas aman.\n",
      "elektronik dalam batas aman.\n"
     ]
    }
   ],
   "source": [
    "# Memeriksa setiap jenis sampah dan mengelompokkannya\n",
    "for i, j in data_sampah.items():\n",
    "    jumlah = j['jumlah']\n",
    "    if jumlah > 100:\n",
    "        print(f\"Pengelolaan intensif diperlukan untuk {i}.\")\n",
    "    else:\n",
    "        print(f\"{i} dalam batas aman.\")\n",
    "\n",
    "\n",
    " "
   ]
  },
  {
   "cell_type": "code",
   "execution_count": null,
   "metadata": {},
   "outputs": [
    {
     "name": "stdout",
     "output_type": "stream",
     "text": [
      "Jumlah sampah anorganik: 250 kg\n",
      "Lokasi pembuangan sampah B3: Tempat Pengelolaan B3\n"
     ]
    }
   ],
   "source": [
    "# Membuat dictionary data_sampah\n",
    "data_sampah = {\n",
    "    \"organik\": {\"jumlah\": 120, \"lokasi\": \"TPA Organik\"},\n",
    "    \"anorganik\": {\"jumlah\": 250, \"lokasi\": \"Pusat Daur Ulang\"},\n",
    "    \"B3\": {\"jumlah\": 60, \"lokasi\": \"Tempat Pengelolaan B3\"}\n",
    "}\n",
    "\n",
    "# Mengakses dan mencetak jumlah sampah anorganik\n",
    "jumlah_anorganik = data_sampah[\"anorganik\"][\"jumlah\"]\n",
    "print(\"Jumlah sampah anorganik:\", jumlah_anorganik, \"kg\")\n",
    "\n",
    "# Mengakses dan mencetak lokasi pembuangan sampah B3\n",
    "lokasi_B3 = data_sampah[\"B3\"][\"lokasi\"]\n",
    "print(\"Lokasi pembuangan sampah B3:\", lokasi_B3)\n",
    "\n",
    "\n",
    "\n"
   ]
  },
  {
   "cell_type": "code",
   "execution_count": 13,
   "metadata": {},
   "outputs": [
    {
     "name": "stdout",
     "output_type": "stream",
     "text": [
      "Jumlah sampah anorganik : 250 kg\n",
      "Lokasi pembuangan sampah organik : TPA Organik\n"
     ]
    }
   ],
   "source": [
    "data_sampah = {\n",
    "   'sampah_organik' : {'jumlah': 120 , 'lokasi_pembuangan': 'TPA Organik'},\n",
    "   'sampah_anorganik': {'jumlah' : 250 , 'lokasi_pembuangan':'Pusat Daur Ulang'},\n",
    "   'sampah_B3': {'jumlah' : 100 , 'lokasi_pembuangan':'Tempat Pengelolaan B3'}\n",
    "}\n",
    "\n",
    "anorganik = data_sampah['sampah_anorganik']['jumlah']\n",
    "print(f\"Jumlah sampah anorganik : {anorganik} kg\")\n",
    "\n",
    "organik = data_sampah['sampah_organik']['lokasi_pembuangan']\n",
    "print(f\"Lokasi pembuangan sampah organik : {organik}\")"
   ]
  },
  {
   "cell_type": "code",
   "execution_count": 15,
   "metadata": {},
   "outputs": [
    {
     "data": {
      "text/plain": [
       "{'sampah_organik': {'jumlah': 130, 'lokasi_pembuangan': 'TPA Organik'},\n",
       " 'sampah_anorganik': {'jumlah': 250, 'lokasi_pembuangan': 'Pusat Daur Ulang'},\n",
       " 'sampah_B3': {'jumlah': 100, 'lokasi_pembuangan': 'Tempat Pengelolaan B3'},\n",
       " 'elektronik': {'jumlah': 100,\n",
       "  'lokasi_pembuangan': 'Pusat Pengelolaan Elektronik'}}"
      ]
     },
     "execution_count": 15,
     "metadata": {},
     "output_type": "execute_result"
    }
   ],
   "source": [
    "data_sampah['elektronik'] = {'jumlah': 100, 'lokasi_pembuangan' : 'Pusat Pengelolaan Elektronik'}\n",
    "data_sampah ['sampah_organik']['jumlah'] = 130\n",
    "data_sampah\n",
    "\n"
   ]
  },
  {
   "cell_type": "code",
   "execution_count": 16,
   "metadata": {},
   "outputs": [
    {
     "name": "stdout",
     "output_type": "stream",
     "text": [
      "Pengelolaan intensif diperlukan untuk sampah_organik.\n",
      "Pengelolaan intensif diperlukan untuk sampah_anorganik.\n",
      "sampah_B3 dalam batas aman.\n",
      "elektronik dalam batas aman.\n"
     ]
    }
   ],
   "source": [
    "# Memeriksa setiap jenis sampah dan mengelompokkannya\n",
    "for i, j in data_sampah.items():\n",
    "    jumlah = j['jumlah']\n",
    "    if jumlah > 100:\n",
    "        print(f\"Pengelolaan intensif diperlukan untuk {i}.\")\n",
    "    else:\n",
    "        print(f\"{i} dalam batas aman.\")\n",
    "\n",
    "\n",
    " "
   ]
  },
  {
   "cell_type": "code",
   "execution_count": 1,
   "metadata": {},
   "outputs": [],
   "source": [
    "import numpy as np"
   ]
  },
  {
   "cell_type": "code",
   "execution_count": 2,
   "metadata": {},
   "outputs": [
    {
     "name": "stdout",
     "output_type": "stream",
     "text": [
      "nilai array : 3\n"
     ]
    }
   ],
   "source": [
    "a = np.array([1,2,3])\n",
    "print(f\"nilai array : {a[2]}\")"
   ]
  },
  {
   "cell_type": "code",
   "execution_count": 18,
   "metadata": {},
   "outputs": [
    {
     "name": "stdout",
     "output_type": "stream",
     "text": [
      "[[1 2 3]\n",
      " [4 5 6]\n",
      " [7 8 9]]\n",
      "Element: 9\n",
      "Baris ke-3: [7 8 9]\n",
      "Kolom ke-2: [1 4 7]\n"
     ]
    }
   ],
   "source": [
    "a = np.array([[1,2,3],[4,5,6],[7,8,9]])\n",
    "\n",
    "print(a)\n",
    "# Mengakses element\n",
    "element = a[2,2]\n",
    "\n",
    "# Mengakses satu baris\n",
    "row = a[2]\n",
    "\n",
    "# Mengakses satu kolom\n",
    "column = a[:,0]\n",
    "\n",
    "print(\"Element:\",  element)\n",
    "print(\"Baris ke-3:\", row)\n",
    "print(\"Kolom ke-2:\", column)"
   ]
  },
  {
   "cell_type": "code",
   "execution_count": 4,
   "metadata": {},
   "outputs": [
    {
     "name": "stdout",
     "output_type": "stream",
     "text": [
      "Menggunakan perulangan for:\n",
      "2\n",
      "3\n",
      "4\n"
     ]
    }
   ],
   "source": [
    "a = np.array([10,2,3,4,5,9,8])\n",
    "\n",
    "print(\"Menggunakan perulangan for:\")\n",
    "for i in range (1,4):\n",
    "     print(a[i])\n",
    "\n",
    "# for i in a:\n",
    "#     print(i)"
   ]
  },
  {
   "cell_type": "code",
   "execution_count": 9,
   "metadata": {},
   "outputs": [
    {
     "name": "stdout",
     "output_type": "stream",
     "text": [
      "Array1[0,0]: 1, Array2[0,0]: 7\n",
      "Array1[0,1]: 2, Array2[0,1]: 8\n",
      "Array1[0,2]: 3, Array2[0,2]: 9\n",
      "Array1[1,0]: 4, Array2[1,0]: 10\n",
      "Array1[1,1]: 5, Array2[1,1]: 11\n",
      "Array1[1,2]: 6, Array2[1,2]: 12\n"
     ]
    }
   ],
   "source": [
    "array1 = np.array([[1,2,3],[4,5,6]])\n",
    "array2 = np.array([[7,8,9],[10,11,12]])\n",
    "\n",
    "for i in range(array1.shape[0]): # iterasi setiap baris\n",
    "    for j in range(array1.shape[1]): # iterasi setiap kolom\n",
    "        print(f\"Array1[{i},{j}]: {array1[i,j]}, Array2[{i},{j}]: {array2[i,j]}\")"
   ]
  },
  {
   "cell_type": "code",
   "execution_count": 2,
   "metadata": {},
   "outputs": [],
   "source": [
    "import numpy as np\n",
    "\n",
    "sampah_wilayah1 = np.array([\n",
    "    [1.2, 1.5, 1.3, 1.7, 1.6, 1.4, 1.1, 1.8, 1.5, 1.9,\n",
    "    1.3, 1.6, 1.7, 1.4, 1.2, 1.5, 1.3, 1.9, 1.8, 1.7,\n",
    "    1.5, 1.3, 1.2, 1.4, 1.2, 1.5, 1.9, 1.8, 1.6, 1.7]  # sampah per ton\n",
    "])\n",
    "\n",
    "sampah_wilayah2 = np.array([\n",
    "    [1.1, 1.3, 1.4, 1.6, 1.5, 1.7, 1.2, 1.6, 1.7, 1.8,\n",
    "    1.4, 1.5, 1.6, 1.2, 1.4, 1.3, 1.5, 1.7, 1.6, 1.6,\n",
    "    1.4, 1.2, 1.3, 1.5, 1.7, 1.6, 1.8, 1.5, 1.9, 1.8]  # sampah per ton\n",
    "])\n",
    "\n",
    "# 1. Hitung total sampah yang dikumpulkan di masing-masing wilayah selama sebulan.\n",
    "\n",
    "# 2. Tentukan hari di mana wilayah pertama mengumpulkan lebih banyak\n",
    "#    sampah daripada wilayah kedua dan sebaliknya.\n",
    "\n",
    "# 3. Hitung total sampah yang dikumpulkan oleh kedua wilayah setiap harinya.\n",
    "\n",
    "\n"
   ]
  },
  {
   "cell_type": "code",
   "execution_count": 7,
   "metadata": {},
   "outputs": [
    {
     "name": "stdout",
     "output_type": "stream",
     "text": [
      "Total sampah wilayah 1 adalah: 45.5 ton\n",
      "Total sampah wilayah 2 adalah: 45.4 ton\n"
     ]
    }
   ],
   "source": [
    "jumlah_wilayah1 = np.sum(sampah_wilayah1)\n",
    "print(f\"Total sampah wilayah 1 adalah: {jumlah_wilayah1} ton\")\n",
    "\n",
    "jumlah_wilayah2 = np.sum(sampah_wilayah2)\n",
    "print(f\"Total sampah wilayah 2 adalah: {jumlah_wilayah2} ton\")"
   ]
  },
  {
   "cell_type": "code",
   "execution_count": 4,
   "metadata": {},
   "outputs": [
    {
     "name": "stdout",
     "output_type": "stream",
     "text": [
      "Hari di mana wilayah 1 mengumpulkan lebih banyak sampah: [1, 2, 4, 5, 8, 10, 12, 13, 14, 16, 18, 19, 20, 21, 22, 27, 28]\n",
      "Hari di mana wilayah 2 mengumpulkan lebih banyak sampah: [3, 6, 7, 9, 11, 15, 17, 23, 24, 25, 26, 29, 30]\n"
     ]
    }
   ],
   "source": [
    "hari_wilayah1 = []\n",
    "hari_wilayah2 = []\n",
    "\n",
    "# Iterasi berdasarkan jumlah kolom (jumlah hari)\n",
    "for i in range(sampah_wilayah1.shape[1]):\n",
    "    if sampah_wilayah1[0, i] > sampah_wilayah2[0, i]: \n",
    "        hari_wilayah1.append(i + 1)\n",
    "    elif sampah_wilayah1[0, i] < sampah_wilayah2[0, i]:\n",
    "        hari_wilayah2.append(i + 1)\n",
    "\n",
    "print(\"Hari di mana wilayah 1 mengumpulkan lebih banyak sampah:\", hari_wilayah1)\n",
    "print(\"Hari di mana wilayah 2 mengumpulkan lebih banyak sampah:\", hari_wilayah2)\n"
   ]
  },
  {
   "cell_type": "code",
   "execution_count": 5,
   "metadata": {},
   "outputs": [
    {
     "name": "stdout",
     "output_type": "stream",
     "text": [
      "Total sampah yang dikumpulkan kedua wilyah perharinya: [2.3 2.8 2.7 3.3 3.1 3.1 2.3 3.4 3.2 3.7 2.7 3.1 3.3 2.6 2.6 2.8 2.8 3.6\n",
      " 3.4 3.3 2.9 2.5 2.5 2.9 2.9 3.1 3.7 3.3 3.5 3.5]\n"
     ]
    }
   ],
   "source": [
    "total_sampah_perhari = sampah_wilayah1 + sampah_wilayah2\n",
    "print(f\"Total sampah yang dikumpulkan kedua wilyah perharinya: {total_sampah_perhari[0]}\")"
   ]
  },
  {
   "cell_type": "code",
   "execution_count": 1,
   "metadata": {},
   "outputs": [
    {
     "data": {
      "text/html": [
       "<div>\n",
       "<style scoped>\n",
       "    .dataframe tbody tr th:only-of-type {\n",
       "        vertical-align: middle;\n",
       "    }\n",
       "\n",
       "    .dataframe tbody tr th {\n",
       "        vertical-align: top;\n",
       "    }\n",
       "\n",
       "    .dataframe thead th {\n",
       "        text-align: right;\n",
       "    }\n",
       "</style>\n",
       "<table border=\"1\" class=\"dataframe\">\n",
       "  <thead>\n",
       "    <tr style=\"text-align: right;\">\n",
       "      <th></th>\n",
       "      <th>Jenis</th>\n",
       "      <th>Berat(Kg)</th>\n",
       "      <th>Daur Ulang</th>\n",
       "    </tr>\n",
       "  </thead>\n",
       "  <tbody>\n",
       "    <tr>\n",
       "      <th>0</th>\n",
       "      <td>Plastik</td>\n",
       "      <td>5</td>\n",
       "      <td>True</td>\n",
       "    </tr>\n",
       "    <tr>\n",
       "      <th>1</th>\n",
       "      <td>Kertas</td>\n",
       "      <td>2</td>\n",
       "      <td>True</td>\n",
       "    </tr>\n",
       "    <tr>\n",
       "      <th>2</th>\n",
       "      <td>Logam</td>\n",
       "      <td>3</td>\n",
       "      <td>True</td>\n",
       "    </tr>\n",
       "    <tr>\n",
       "      <th>3</th>\n",
       "      <td>Kaca</td>\n",
       "      <td>4</td>\n",
       "      <td>False</td>\n",
       "    </tr>\n",
       "  </tbody>\n",
       "</table>\n",
       "</div>"
      ],
      "text/plain": [
       "     Jenis  Berat(Kg)  Daur Ulang\n",
       "0  Plastik          5        True\n",
       "1   Kertas          2        True\n",
       "2    Logam          3        True\n",
       "3     Kaca          4       False"
      ]
     },
     "execution_count": 1,
     "metadata": {},
     "output_type": "execute_result"
    }
   ],
   "source": [
    "import pandas as pd\n",
    "\n",
    "data_list = [\n",
    "    ['Plastik', 5, True],\n",
    "    ['Kertas', 2, True],\n",
    "    ['Logam', 3, True],\n",
    "    ['Kaca', 4, False],\n",
    "]\n",
    "\n",
    "df_list = pd.DataFrame(data_list, columns = ['Jenis', 'Berat(Kg)', 'Daur Ulang'])\n",
    "df_list"
   ]
  },
  {
   "cell_type": "code",
   "execution_count": 3,
   "metadata": {},
   "outputs": [
    {
     "data": {
      "text/html": [
       "<div>\n",
       "<style scoped>\n",
       "    .dataframe tbody tr th:only-of-type {\n",
       "        vertical-align: middle;\n",
       "    }\n",
       "\n",
       "    .dataframe tbody tr th {\n",
       "        vertical-align: top;\n",
       "    }\n",
       "\n",
       "    .dataframe thead th {\n",
       "        text-align: right;\n",
       "    }\n",
       "</style>\n",
       "<table border=\"1\" class=\"dataframe\">\n",
       "  <thead>\n",
       "    <tr style=\"text-align: right;\">\n",
       "      <th></th>\n",
       "      <th>Jenis</th>\n",
       "      <th>Berat(Kg)</th>\n",
       "      <th>Daur Ulang</th>\n",
       "    </tr>\n",
       "  </thead>\n",
       "  <tbody>\n",
       "    <tr>\n",
       "      <th>0</th>\n",
       "      <td>Plastik</td>\n",
       "      <td>5</td>\n",
       "      <td>True</td>\n",
       "    </tr>\n",
       "    <tr>\n",
       "      <th>1</th>\n",
       "      <td>Kertas</td>\n",
       "      <td>2</td>\n",
       "      <td>True</td>\n",
       "    </tr>\n",
       "    <tr>\n",
       "      <th>2</th>\n",
       "      <td>Logam</td>\n",
       "      <td>3</td>\n",
       "      <td>True</td>\n",
       "    </tr>\n",
       "    <tr>\n",
       "      <th>3</th>\n",
       "      <td>Kaca</td>\n",
       "      <td>4</td>\n",
       "      <td>False</td>\n",
       "    </tr>\n",
       "  </tbody>\n",
       "</table>\n",
       "</div>"
      ],
      "text/plain": [
       "     Jenis Berat(Kg) Daur Ulang\n",
       "0  Plastik         5       True\n",
       "1   Kertas         2       True\n",
       "2    Logam         3       True\n",
       "3     Kaca         4      False"
      ]
     },
     "execution_count": 3,
     "metadata": {},
     "output_type": "execute_result"
    }
   ],
   "source": [
    "import numpy as np\n",
    "import pandas as pd\n",
    "\n",
    "data_array = np.array([\n",
    "    ['Plastik', 5, True],\n",
    "    ['Kertas', 2, True],\n",
    "    ['Logam', 3, True],\n",
    "    ['Kaca', 4, False],\n",
    "])\n",
    "\n",
    "df_array = pd.DataFrame(data_array, columns = ['Jenis', 'Berat(Kg)', 'Daur Ulang'])\n",
    "df_array\n"
   ]
  },
  {
   "cell_type": "code",
   "execution_count": 6,
   "metadata": {},
   "outputs": [
    {
     "data": {
      "text/html": [
       "<div>\n",
       "<style scoped>\n",
       "    .dataframe tbody tr th:only-of-type {\n",
       "        vertical-align: middle;\n",
       "    }\n",
       "\n",
       "    .dataframe tbody tr th {\n",
       "        vertical-align: top;\n",
       "    }\n",
       "\n",
       "    .dataframe thead th {\n",
       "        text-align: right;\n",
       "    }\n",
       "</style>\n",
       "<table border=\"1\" class=\"dataframe\">\n",
       "  <thead>\n",
       "    <tr style=\"text-align: right;\">\n",
       "      <th></th>\n",
       "      <th>Jenis</th>\n",
       "      <th>Berat(Kg)</th>\n",
       "      <th>Daur Ulang</th>\n",
       "    </tr>\n",
       "  </thead>\n",
       "  <tbody>\n",
       "    <tr>\n",
       "      <th>0</th>\n",
       "      <td>Plastik</td>\n",
       "      <td>5</td>\n",
       "      <td>True</td>\n",
       "    </tr>\n",
       "    <tr>\n",
       "      <th>1</th>\n",
       "      <td>Kertas</td>\n",
       "      <td>3</td>\n",
       "      <td>True</td>\n",
       "    </tr>\n",
       "    <tr>\n",
       "      <th>2</th>\n",
       "      <td>Logam</td>\n",
       "      <td>2</td>\n",
       "      <td>True</td>\n",
       "    </tr>\n",
       "    <tr>\n",
       "      <th>3</th>\n",
       "      <td>Kaca</td>\n",
       "      <td>4</td>\n",
       "      <td>False</td>\n",
       "    </tr>\n",
       "  </tbody>\n",
       "</table>\n",
       "</div>"
      ],
      "text/plain": [
       "     Jenis  Berat(Kg)  Daur Ulang\n",
       "0  Plastik          5        True\n",
       "1   Kertas          3        True\n",
       "2    Logam          2        True\n",
       "3     Kaca          4       False"
      ]
     },
     "execution_count": 6,
     "metadata": {},
     "output_type": "execute_result"
    }
   ],
   "source": [
    "data_kamus = {\n",
    "    'Jenis': ['Plastik', 'Kertas', 'Logam', 'Kaca'],\n",
    "    'Berat(Kg)': [5,3,2,4],\n",
    "    'Daur Ulang': [True, True, True, False]   \n",
    "}\n",
    "\n",
    "df_kamus = pd.DataFrame(data_kamus)\n",
    "df_kamus"
   ]
  },
  {
   "cell_type": "code",
   "execution_count": 7,
   "metadata": {},
   "outputs": [
    {
     "ename": "SyntaxError",
     "evalue": "invalid syntax (438057576.py, line 1)",
     "output_type": "error",
     "traceback": [
      "\u001b[1;36m  Cell \u001b[1;32mIn[7], line 1\u001b[1;36m\u001b[0m\n\u001b[1;33m    jumlah = pd.sum(data_kamus):\u001b[0m\n\u001b[1;37m                               ^\u001b[0m\n\u001b[1;31mSyntaxError\u001b[0m\u001b[1;31m:\u001b[0m invalid syntax\n"
     ]
    }
   ],
   "source": [
    "jumlah = pd.sum(data_kamus):\n",
    "print(jumlah)"
   ]
  },
  {
   "cell_type": "code",
   "execution_count": 9,
   "metadata": {},
   "outputs": [],
   "source": [
    "# df_list.to_csv('coba_export_list.csv', index=False)\n",
    "df_list.to_excel('coba_excel.xlsx', index=False)"
   ]
  },
  {
   "cell_type": "code",
   "execution_count": 10,
   "metadata": {},
   "outputs": [
    {
     "data": {
      "text/html": [
       "<div>\n",
       "<style scoped>\n",
       "    .dataframe tbody tr th:only-of-type {\n",
       "        vertical-align: middle;\n",
       "    }\n",
       "\n",
       "    .dataframe tbody tr th {\n",
       "        vertical-align: top;\n",
       "    }\n",
       "\n",
       "    .dataframe thead th {\n",
       "        text-align: right;\n",
       "    }\n",
       "</style>\n",
       "<table border=\"1\" class=\"dataframe\">\n",
       "  <thead>\n",
       "    <tr style=\"text-align: right;\">\n",
       "      <th></th>\n",
       "      <th>Jenis</th>\n",
       "      <th>Berat(Kg)</th>\n",
       "      <th>Daur Ulang</th>\n",
       "    </tr>\n",
       "  </thead>\n",
       "  <tbody>\n",
       "    <tr>\n",
       "      <th>0</th>\n",
       "      <td>Plastik</td>\n",
       "      <td>5</td>\n",
       "      <td>True</td>\n",
       "    </tr>\n",
       "    <tr>\n",
       "      <th>1</th>\n",
       "      <td>Kertas</td>\n",
       "      <td>2</td>\n",
       "      <td>True</td>\n",
       "    </tr>\n",
       "    <tr>\n",
       "      <th>2</th>\n",
       "      <td>Logam</td>\n",
       "      <td>3</td>\n",
       "      <td>True</td>\n",
       "    </tr>\n",
       "    <tr>\n",
       "      <th>3</th>\n",
       "      <td>Kaca</td>\n",
       "      <td>4</td>\n",
       "      <td>False</td>\n",
       "    </tr>\n",
       "  </tbody>\n",
       "</table>\n",
       "</div>"
      ],
      "text/plain": [
       "     Jenis  Berat(Kg)  Daur Ulang\n",
       "0  Plastik          5        True\n",
       "1   Kertas          2        True\n",
       "2    Logam          3        True\n",
       "3     Kaca          4       False"
      ]
     },
     "execution_count": 10,
     "metadata": {},
     "output_type": "execute_result"
    }
   ],
   "source": [
    "df_excel = pd.read_excel('coba_excel.xlsx', sheet_name='Sheet1')\n",
    "df_excel"
   ]
  },
  {
   "cell_type": "code",
   "execution_count": 14,
   "metadata": {},
   "outputs": [
    {
     "data": {
      "text/plain": [
       "0    Plastik\n",
       "1     Kertas\n",
       "2      Logam\n",
       "3       Kaca\n",
       "Name: Jenis, dtype: object"
      ]
     },
     "execution_count": 14,
     "metadata": {},
     "output_type": "execute_result"
    }
   ],
   "source": [
    "filter_df = df_excel['Jenis']\n",
    "filter_df"
   ]
  },
  {
   "cell_type": "code",
   "execution_count": 18,
   "metadata": {},
   "outputs": [
    {
     "name": "stdout",
     "output_type": "stream",
     "text": [
      "Kaca\n",
      "False\n"
     ]
    }
   ],
   "source": [
    "# Mengakses dalam baris ke\n",
    "a = df_list.loc[3, 'Jenis']\n",
    "b = df_list.iloc[3,2]\n",
    "print (a)\n",
    "print(b)"
   ]
  },
  {
   "cell_type": "code",
   "execution_count": 20,
   "metadata": {},
   "outputs": [
    {
     "name": "stdout",
     "output_type": "stream",
     "text": [
      "Jenis         Plastik\n",
      "Berat(Kg)           5\n",
      "Daur Ulang       True\n",
      "Name: 0, dtype: object\n",
      "Jenis         Kertas\n",
      "Berat(Kg)          2\n",
      "Daur Ulang      True\n",
      "Name: 1, dtype: object\n",
      "Jenis         Logam\n",
      "Berat(Kg)         3\n",
      "Daur Ulang     True\n",
      "Name: 2, dtype: object\n",
      "Jenis          Kaca\n",
      "Berat(Kg)         4\n",
      "Daur Ulang    False\n",
      "Name: 3, dtype: object\n",
      "0\n",
      "1\n",
      "2\n",
      "3\n"
     ]
    }
   ],
   "source": [
    "# kalau row, yang dipanggil sih isi dari barisnya\n",
    "for i,row in df_list.iterrows():\n",
    "    print(f\"{row}\")\n",
    "# kalau i, itu berarti yang ditampilkan sih indeksnyaa\n",
    "for i,row in df_list.iterrows():\n",
    "    print(f\"{i}\")"
   ]
  },
  {
   "cell_type": "code",
   "execution_count": 22,
   "metadata": {},
   "outputs": [
    {
     "name": "stdout",
     "output_type": "stream",
     "text": [
      "Perulanagan ke 1 jenisnya adalah Plastik\n",
      "Perulanagan ke 2 jenisnya adalah Kertas\n",
      "Perulanagan ke 3 jenisnya adalah Logam\n",
      "Perulanagan ke 4 jenisnya adalah Kaca\n"
     ]
    }
   ],
   "source": [
    "for i,row in df_list.iterrows():\n",
    "    print(f\"Perulanagan ke {i+1} jenisnya adalah {row['Jenis']}\")"
   ]
  },
  {
   "cell_type": "code",
   "execution_count": 46,
   "metadata": {},
   "outputs": [
    {
     "name": "stdout",
     "output_type": "stream",
     "text": [
      "Jenis sampah Plastik dengan berat 5 Kg, daur ulangnya adalah True\n",
      "Jenis sampah Kertas dengan berat 2 Kg, daur ulangnya adalah True\n",
      "Jenis sampah Logam dengan berat 3 Kg, daur ulangnya adalah True\n"
     ]
    }
   ],
   "source": [
    "for i, row in df_list.iterrows():\n",
    "    if row['Daur Ulang'] == 'True':\n",
    "        print(f\"Jenis sampah {row['Jenis']} dengan berat {row['Berat(Kg)']} Kg, daur ulangnya adalah {row['Daur Ulang']}\")"
   ]
  },
  {
   "cell_type": "code",
   "execution_count": 12,
   "metadata": {},
   "outputs": [
    {
     "data": {
      "text/html": [
       "<div>\n",
       "<style scoped>\n",
       "    .dataframe tbody tr th:only-of-type {\n",
       "        vertical-align: middle;\n",
       "    }\n",
       "\n",
       "    .dataframe tbody tr th {\n",
       "        vertical-align: top;\n",
       "    }\n",
       "\n",
       "    .dataframe thead th {\n",
       "        text-align: right;\n",
       "    }\n",
       "</style>\n",
       "<table border=\"1\" class=\"dataframe\">\n",
       "  <thead>\n",
       "    <tr style=\"text-align: right;\">\n",
       "      <th></th>\n",
       "      <th>id</th>\n",
       "      <th>kode_provinsi</th>\n",
       "      <th>nama_provinsi</th>\n",
       "      <th>kode_kabupaten_kota</th>\n",
       "      <th>nama_kabupaten_kota</th>\n",
       "      <th>jumlah_produksi_sampah</th>\n",
       "      <th>satuan</th>\n",
       "      <th>tahun</th>\n",
       "    </tr>\n",
       "  </thead>\n",
       "  <tbody>\n",
       "    <tr>\n",
       "      <th>0</th>\n",
       "      <td>1</td>\n",
       "      <td>32</td>\n",
       "      <td>JAWA BARAT</td>\n",
       "      <td>3201</td>\n",
       "      <td>KABUPATEN BOGOR</td>\n",
       "      <td>1511.15</td>\n",
       "      <td>TON PER HARI</td>\n",
       "      <td>2015</td>\n",
       "    </tr>\n",
       "    <tr>\n",
       "      <th>1</th>\n",
       "      <td>2</td>\n",
       "      <td>32</td>\n",
       "      <td>JAWA BARAT</td>\n",
       "      <td>3202</td>\n",
       "      <td>KABUPATEN SUKABUMI</td>\n",
       "      <td>419.01</td>\n",
       "      <td>TON PER HARI</td>\n",
       "      <td>2015</td>\n",
       "    </tr>\n",
       "    <tr>\n",
       "      <th>2</th>\n",
       "      <td>3</td>\n",
       "      <td>32</td>\n",
       "      <td>JAWA BARAT</td>\n",
       "      <td>3203</td>\n",
       "      <td>KABUPATEN CIANJUR</td>\n",
       "      <td>981.41</td>\n",
       "      <td>TON PER HARI</td>\n",
       "      <td>2015</td>\n",
       "    </tr>\n",
       "    <tr>\n",
       "      <th>3</th>\n",
       "      <td>4</td>\n",
       "      <td>32</td>\n",
       "      <td>JAWA BARAT</td>\n",
       "      <td>3204</td>\n",
       "      <td>KABUPATEN BANDUNG</td>\n",
       "      <td>1895.94</td>\n",
       "      <td>TON PER HARI</td>\n",
       "      <td>2015</td>\n",
       "    </tr>\n",
       "    <tr>\n",
       "      <th>4</th>\n",
       "      <td>5</td>\n",
       "      <td>32</td>\n",
       "      <td>JAWA BARAT</td>\n",
       "      <td>3205</td>\n",
       "      <td>KABUPATEN GARUT</td>\n",
       "      <td>464.74</td>\n",
       "      <td>TON PER HARI</td>\n",
       "      <td>2015</td>\n",
       "    </tr>\n",
       "    <tr>\n",
       "      <th>...</th>\n",
       "      <td>...</td>\n",
       "      <td>...</td>\n",
       "      <td>...</td>\n",
       "      <td>...</td>\n",
       "      <td>...</td>\n",
       "      <td>...</td>\n",
       "      <td>...</td>\n",
       "      <td>...</td>\n",
       "    </tr>\n",
       "    <tr>\n",
       "      <th>238</th>\n",
       "      <td>239</td>\n",
       "      <td>32</td>\n",
       "      <td>JAWA BARAT</td>\n",
       "      <td>3275</td>\n",
       "      <td>KOTA BEKASI</td>\n",
       "      <td>NaN</td>\n",
       "      <td>TON PER HARI</td>\n",
       "      <td>2023</td>\n",
       "    </tr>\n",
       "    <tr>\n",
       "      <th>239</th>\n",
       "      <td>240</td>\n",
       "      <td>32</td>\n",
       "      <td>JAWA BARAT</td>\n",
       "      <td>3276</td>\n",
       "      <td>KOTA DEPOK</td>\n",
       "      <td>NaN</td>\n",
       "      <td>TON PER HARI</td>\n",
       "      <td>2023</td>\n",
       "    </tr>\n",
       "    <tr>\n",
       "      <th>240</th>\n",
       "      <td>241</td>\n",
       "      <td>32</td>\n",
       "      <td>JAWA BARAT</td>\n",
       "      <td>3277</td>\n",
       "      <td>KOTA CIMAHI</td>\n",
       "      <td>NaN</td>\n",
       "      <td>TON PER HARI</td>\n",
       "      <td>2023</td>\n",
       "    </tr>\n",
       "    <tr>\n",
       "      <th>241</th>\n",
       "      <td>242</td>\n",
       "      <td>32</td>\n",
       "      <td>JAWA BARAT</td>\n",
       "      <td>3278</td>\n",
       "      <td>KOTA TASIKMALAYA</td>\n",
       "      <td>NaN</td>\n",
       "      <td>TON PER HARI</td>\n",
       "      <td>2023</td>\n",
       "    </tr>\n",
       "    <tr>\n",
       "      <th>242</th>\n",
       "      <td>243</td>\n",
       "      <td>32</td>\n",
       "      <td>JAWA BARAT</td>\n",
       "      <td>3279</td>\n",
       "      <td>KOTA BANJAR</td>\n",
       "      <td>NaN</td>\n",
       "      <td>TON PER HARI</td>\n",
       "      <td>2023</td>\n",
       "    </tr>\n",
       "  </tbody>\n",
       "</table>\n",
       "<p>243 rows × 8 columns</p>\n",
       "</div>"
      ],
      "text/plain": [
       "      id  kode_provinsi nama_provinsi  kode_kabupaten_kota  \\\n",
       "0      1             32    JAWA BARAT                 3201   \n",
       "1      2             32    JAWA BARAT                 3202   \n",
       "2      3             32    JAWA BARAT                 3203   \n",
       "3      4             32    JAWA BARAT                 3204   \n",
       "4      5             32    JAWA BARAT                 3205   \n",
       "..   ...            ...           ...                  ...   \n",
       "238  239             32    JAWA BARAT                 3275   \n",
       "239  240             32    JAWA BARAT                 3276   \n",
       "240  241             32    JAWA BARAT                 3277   \n",
       "241  242             32    JAWA BARAT                 3278   \n",
       "242  243             32    JAWA BARAT                 3279   \n",
       "\n",
       "    nama_kabupaten_kota  jumlah_produksi_sampah        satuan  tahun  \n",
       "0       KABUPATEN BOGOR                 1511.15  TON PER HARI   2015  \n",
       "1    KABUPATEN SUKABUMI                  419.01  TON PER HARI   2015  \n",
       "2     KABUPATEN CIANJUR                  981.41  TON PER HARI   2015  \n",
       "3     KABUPATEN BANDUNG                 1895.94  TON PER HARI   2015  \n",
       "4       KABUPATEN GARUT                  464.74  TON PER HARI   2015  \n",
       "..                  ...                     ...           ...    ...  \n",
       "238         KOTA BEKASI                     NaN  TON PER HARI   2023  \n",
       "239          KOTA DEPOK                     NaN  TON PER HARI   2023  \n",
       "240         KOTA CIMAHI                     NaN  TON PER HARI   2023  \n",
       "241    KOTA TASIKMALAYA                     NaN  TON PER HARI   2023  \n",
       "242         KOTA BANJAR                     NaN  TON PER HARI   2023  \n",
       "\n",
       "[243 rows x 8 columns]"
      ]
     },
     "execution_count": 12,
     "metadata": {},
     "output_type": "execute_result"
    }
   ],
   "source": [
    "df_excel1 = pd.read_excel('disperkim-data-sampah.xlsx', sheet_name='data')\n",
    "df_excel1"
   ]
  },
  {
   "cell_type": "code",
   "execution_count": 14,
   "metadata": {},
   "outputs": [
    {
     "name": "stdout",
     "output_type": "stream",
     "text": [
      "Total sampah di Jawa Barat pada tahun 2015 adalah 20969.269999999997 ton\n"
     ]
    }
   ],
   "source": [
    "tahun_tertentu = 2015\n",
    "\n",
    "total_produksi = 0\n",
    "\n",
    "for i, row in df_excel1.iterrows():\n",
    "    if row['tahun'] == tahun_tertentu:\n",
    "        total_produksi += row['jumlah_produksi_sampah']\n",
    "print(f\"Total sampah di Jawa Barat pada tahun {tahun_tertentu} adalah {total_produksi} ton\")\n"
   ]
  },
  {
   "cell_type": "code",
   "execution_count": 17,
   "metadata": {},
   "outputs": [
    {
     "name": "stdout",
     "output_type": "stream",
     "text": [
      "Total produksi sampah per tahun di Provinisi Jawa Barat:\n",
      "Tahun 2015: 20969.269999999997 ton\n",
      "Tahun 2016: 20969.269999999997 ton\n",
      "Tahun 2017: 20969.269999999997 ton\n",
      "Tahun 2018: 22772.92 ton\n",
      "Tahun 2019: 24490.559999999998 ton\n",
      "Tahun 2020: 25333.0 ton\n",
      "Tahun 2021: 15735.360000000002 ton\n",
      "Tahun 2022: nan ton\n",
      "Tahun 2023: nan ton\n"
     ]
    }
   ],
   "source": [
    "total_per_tahun = {}\n",
    "\n",
    "for i, row in df_excel1.iterrows():\n",
    "    tahun = row['tahun']\n",
    "    produksi = row['jumlah_produksi_sampah']\n",
    "\n",
    "    if tahun in total_per_tahun:\n",
    "        total_per_tahun[tahun] += produksi\n",
    "    else:\n",
    "        total_per_tahun[tahun] = produksi\n",
    "print(\"Total produksi sampah per tahun di Provinisi Jawa Barat:\")\n",
    "for tahun, total in total_per_tahun.items():\n",
    "    print(f\"Tahun {tahun}: {total} ton\")"
   ]
  },
  {
   "cell_type": "code",
   "execution_count": 18,
   "metadata": {},
   "outputs": [
    {
     "name": "stdout",
     "output_type": "stream",
     "text": [
      "Total produksi sampah per Kota/Kabupaten per tahun:\n",
      "KABUPATEN BOGOR, Tahun 2015: 1511.15 ton\n",
      "KABUPATEN SUKABUMI, Tahun 2015: 419.01 ton\n",
      "KABUPATEN CIANJUR, Tahun 2015: 981.41 ton\n",
      "KABUPATEN BANDUNG, Tahun 2015: 1895.94 ton\n",
      "KABUPATEN GARUT, Tahun 2015: 464.74 ton\n",
      "KABUPATEN TASIKMALAYA, Tahun 2015: 464.52 ton\n",
      "KABUPATEN CIAMIS, Tahun 2015: 260.91 ton\n",
      "KABUPATEN KUNINGAN, Tahun 2015: 251.7 ton\n",
      "KABUPATEN CIREBON, Tahun 2015: 465.75 ton\n",
      "KABUPATEN MAJALENGKA, Tahun 2015: 254.63 ton\n",
      "KABUPATEN SUMEDANG, Tahun 2015: 237.96 ton\n",
      "KABUPATEN INDRAMAYU, Tahun 2015: 613.18 ton\n",
      "KABUPATEN SUBANG, Tahun 2015: 487.26 ton\n",
      "KABUPATEN PURWAKARTA, Tahun 2015: 308.96 ton\n",
      "KABUPATEN KARAWANG, Tahun 2015: 869.86 ton\n",
      "KABUPATEN BEKASI, Tahun 2015: 1228.6 ton\n",
      "KABUPATEN BANDUNG BARAT, Tahun 2015: 616.08 ton\n",
      "KABUPATEN PANGANDARAN, Tahun 2015: 185.83 ton\n",
      "KOTA BOGOR, Tahun 2015: 991.93 ton\n",
      "KOTA SUKABUMI, Tahun 2015: 309.91 ton\n",
      "KOTA BANDUNG, Tahun 2015: 2448.63 ton\n",
      "KOTA CIREBON, Tahun 2015: 304.15 ton\n",
      "KOTA BEKASI, Tahun 2015: 2387.08 ton\n",
      "KOTA DEPOK, Tahun 2015: 1844.3 ton\n",
      "KOTA CIMAHI, Tahun 2015: 563.21 ton\n",
      "KOTA TASIKMALAYA, Tahun 2015: 472.36 ton\n",
      "KOTA BANJAR, Tahun 2015: 130.21 ton\n",
      "KABUPATEN BOGOR, Tahun 2016: 1511.15 ton\n",
      "KABUPATEN SUKABUMI, Tahun 2016: 419.01 ton\n",
      "KABUPATEN CIANJUR, Tahun 2016: 981.41 ton\n",
      "KABUPATEN BANDUNG, Tahun 2016: 1895.94 ton\n",
      "KABUPATEN GARUT, Tahun 2016: 464.74 ton\n",
      "KABUPATEN TASIKMALAYA, Tahun 2016: 464.52 ton\n",
      "KABUPATEN CIAMIS, Tahun 2016: 260.91 ton\n",
      "KABUPATEN KUNINGAN, Tahun 2016: 251.7 ton\n",
      "KABUPATEN CIREBON, Tahun 2016: 465.75 ton\n",
      "KABUPATEN MAJALENGKA, Tahun 2016: 254.63 ton\n",
      "KABUPATEN SUMEDANG, Tahun 2016: 237.96 ton\n",
      "KABUPATEN INDRAMAYU, Tahun 2016: 613.18 ton\n",
      "KABUPATEN SUBANG, Tahun 2016: 487.26 ton\n",
      "KABUPATEN PURWAKARTA, Tahun 2016: 308.96 ton\n",
      "KABUPATEN KARAWANG, Tahun 2016: 869.86 ton\n",
      "KABUPATEN BEKASI, Tahun 2016: 1228.6 ton\n",
      "KABUPATEN BANDUNG BARAT, Tahun 2016: 616.08 ton\n",
      "KABUPATEN PANGANDARAN, Tahun 2016: 185.83 ton\n",
      "KOTA BOGOR, Tahun 2016: 991.93 ton\n",
      "KOTA SUKABUMI, Tahun 2016: 309.91 ton\n",
      "KOTA BANDUNG, Tahun 2016: 2448.63 ton\n",
      "KOTA CIREBON, Tahun 2016: 304.15 ton\n",
      "KOTA BEKASI, Tahun 2016: 2387.08 ton\n",
      "KOTA DEPOK, Tahun 2016: 1844.3 ton\n",
      "KOTA CIMAHI, Tahun 2016: 563.21 ton\n",
      "KOTA TASIKMALAYA, Tahun 2016: 472.36 ton\n",
      "KOTA BANJAR, Tahun 2016: 130.21 ton\n",
      "KABUPATEN BOGOR, Tahun 2017: 1511.15 ton\n",
      "KABUPATEN SUKABUMI, Tahun 2017: 419.01 ton\n",
      "KABUPATEN CIANJUR, Tahun 2017: 981.41 ton\n",
      "KABUPATEN BANDUNG, Tahun 2017: 1895.94 ton\n",
      "KABUPATEN GARUT, Tahun 2017: 464.74 ton\n",
      "KABUPATEN TASIKMALAYA, Tahun 2017: 464.52 ton\n",
      "KABUPATEN CIAMIS, Tahun 2017: 260.91 ton\n",
      "KABUPATEN KUNINGAN, Tahun 2017: 251.7 ton\n",
      "KABUPATEN CIREBON, Tahun 2017: 465.75 ton\n",
      "KABUPATEN MAJALENGKA, Tahun 2017: 254.63 ton\n",
      "KABUPATEN SUMEDANG, Tahun 2017: 237.96 ton\n",
      "KABUPATEN INDRAMAYU, Tahun 2017: 613.18 ton\n",
      "KABUPATEN SUBANG, Tahun 2017: 487.26 ton\n",
      "KABUPATEN PURWAKARTA, Tahun 2017: 308.96 ton\n",
      "KABUPATEN KARAWANG, Tahun 2017: 869.86 ton\n",
      "KABUPATEN BEKASI, Tahun 2017: 1228.6 ton\n",
      "KABUPATEN BANDUNG BARAT, Tahun 2017: 616.08 ton\n",
      "KABUPATEN PANGANDARAN, Tahun 2017: 185.83 ton\n",
      "KOTA BOGOR, Tahun 2017: 991.93 ton\n",
      "KOTA SUKABUMI, Tahun 2017: 309.91 ton\n",
      "KOTA BANDUNG, Tahun 2017: 2448.63 ton\n",
      "KOTA CIREBON, Tahun 2017: 304.15 ton\n",
      "KOTA BEKASI, Tahun 2017: 2387.08 ton\n",
      "KOTA DEPOK, Tahun 2017: 1844.3 ton\n",
      "KOTA CIMAHI, Tahun 2017: 563.21 ton\n",
      "KOTA TASIKMALAYA, Tahun 2017: 472.36 ton\n",
      "KOTA BANJAR, Tahun 2017: 130.21 ton\n",
      "KABUPATEN BOGOR, Tahun 2018: 1716.8 ton\n",
      "KABUPATEN SUKABUMI, Tahun 2018: 415.5 ton\n",
      "KABUPATEN CIANJUR, Tahun 2018: 965.19 ton\n",
      "KABUPATEN BANDUNG, Tahun 2018: 2068.06 ton\n",
      "KABUPATEN GARUT, Tahun 2018: 473.89 ton\n",
      "KABUPATEN TASIKMALAYA, Tahun 2018: 458.45 ton\n",
      "KABUPATEN CIAMIS, Tahun 2018: 263.01 ton\n",
      "KABUPATEN KUNINGAN, Tahun 2018: 248.52 ton\n",
      "KABUPATEN CIREBON, Tahun 2018: 466.25 ton\n",
      "KABUPATEN MAJALENGKA, Tahun 2018: 249.26 ton\n",
      "KABUPATEN SUMEDANG, Tahun 2018: 236.12 ton\n",
      "KABUPATEN INDRAMAYU, Tahun 2018: 603.11 ton\n",
      "KABUPATEN SUBANG, Tahun 2018: 498.7 ton\n",
      "KABUPATEN PURWAKARTA, Tahun 2018: 323.87 ton\n",
      "KABUPATEN KARAWANG, Tahun 2018: 896.85 ton\n",
      "KABUPATEN BEKASI, Tahun 2018: 1600.71 ton\n",
      "KABUPATEN BANDUNG BARAT, Tahun 2018: 663.54 ton\n",
      "KABUPATEN PANGANDARAN, Tahun 2018: 171.21 ton\n",
      "KOTA BOGOR, Tahun 2018: 1069.41 ton\n",
      "KOTA SUKABUMI, Tahun 2018: 318.12 ton\n",
      "KOTA BANDUNG, Tahun 2018: 2441.12 ton\n",
      "KOTA CIREBON, Tahun 2018: 308.37 ton\n",
      "KOTA BEKASI, Tahun 2018: 2858.6 ton\n",
      "KOTA DEPOK, Tahun 2018: 2272.07 ton\n",
      "KOTA CIMAHI, Tahun 2018: 592.62 ton\n",
      "KOTA TASIKMALAYA, Tahun 2018: 465.23 ton\n",
      "KOTA BANJAR, Tahun 2018: 128.34 ton\n",
      "KABUPATEN BOGOR, Tahun 2019: 2914.65 ton\n",
      "KABUPATEN SUKABUMI, Tahun 2019: 1003.64 ton\n",
      "KABUPATEN CIANJUR, Tahun 2019: 1115.81 ton\n",
      "KABUPATEN BANDUNG, Tahun 2019: 1334.12 ton\n",
      "KABUPATEN GARUT, Tahun 2019: 1144.01 ton\n",
      "KABUPATEN TASIKMALAYA, Tahun 2019: 753.06 ton\n",
      "KABUPATEN CIAMIS, Tahun 2019: 560.57 ton\n",
      "KABUPATEN KUNINGAN, Tahun 2019: 537.25 ton\n",
      "KABUPATEN CIREBON, Tahun 2019: 3.15 ton\n",
      "KABUPATEN MAJALENGKA, Tahun 2019: 515.7 ton\n",
      "KABUPATEN SUMEDANG, Tahun 2019: 436.96 ton\n",
      "KABUPATEN INDRAMAYU, Tahun 2019: 1071.05 ton\n",
      "KABUPATEN SUBANG, Tahun 2019: 1012.45 ton\n",
      "KABUPATEN PURWAKARTA, Tahun 2019: 384.43 ton\n",
      "KABUPATEN KARAWANG, Tahun 2019: 934.4 ton\n",
      "KABUPATEN BEKASI, Tahun 2019: 2590.0 ton\n",
      "KABUPATEN BANDUNG BARAT, Tahun 2019: 1124.5 ton\n",
      "KABUPATEN PANGANDARAN, Tahun 2019: 250.23 ton\n",
      "KOTA BOGOR, Tahun 2019: 620.55 ton\n",
      "KOTA SUKABUMI, Tahun 2019: 172.82 ton\n",
      "KOTA BANDUNG, Tahun 2019: 1575.73 ton\n",
      "KOTA CIREBON, Tahun 2019: 245.0 ton\n",
      "KOTA BEKASI, Tahun 2019: 2060.7 ton\n",
      "KOTA DEPOK, Tahun 2019: 1469.77 ton\n",
      "KOTA CIMAHI, Tahun 2019: 267.74 ton\n",
      "KOTA TASIKMALAYA, Tahun 2019: 291.6 ton\n",
      "KOTA BANJAR, Tahun 2019: 100.67 ton\n",
      "KABUPATEN BOGOR, Tahun 2020: 2977.0 ton\n",
      "KABUPATEN SUKABUMI, Tahun 2020: 1006.0 ton\n",
      "KABUPATEN CIANJUR, Tahun 2020: 1117.0 ton\n",
      "KABUPATEN BANDUNG, Tahun 2020: 1355.0 ton\n",
      "KABUPATEN GARUT, Tahun 2020: 1151.0 ton\n",
      "KABUPATEN TASIKMALAYA, Tahun 2020: 754.0 ton\n",
      "KABUPATEN CIAMIS, Tahun 2020: 564.0 ton\n",
      "KABUPATEN KUNINGAN, Tahun 2020: 540.0 ton\n",
      "KABUPATEN CIREBON, Tahun 2020: 1096.0 ton\n",
      "KABUPATEN MAJALENGKA, Tahun 2020: 518.0 ton\n",
      "KABUPATEN SUMEDANG, Tahun 2020: 438.0 ton\n",
      "KABUPATEN INDRAMAYU, Tahun 2020: 1077.0 ton\n",
      "KABUPATEN SUBANG, Tahun 2020: 1023.0 ton\n",
      "KABUPATEN PURWAKARTA, Tahun 2020: 388.0 ton\n",
      "KABUPATEN KARAWANG, Tahun 2020: 942.0 ton\n",
      "KABUPATEN BEKASI, Tahun 2020: 2258.0 ton\n",
      "KABUPATEN BANDUNG BARAT, Tahun 2020: 1135.0 ton\n",
      "KABUPATEN PANGANDARAN, Tahun 2020: 252.0 ton\n",
      "KOTA BOGOR, Tahun 2020: 567.0 ton\n",
      "KOTA SUKABUMI, Tahun 2020: 181.0 ton\n",
      "KOTA BANDUNG, Tahun 2020: 1630.0 ton\n",
      "KOTA CIREBON, Tahun 2020: 192.0 ton\n",
      "KOTA BEKASI, Tahun 2020: 1923.0 ton\n",
      "KOTA DEPOK, Tahun 2020: 1516.0 ton\n",
      "KOTA CIMAHI, Tahun 2020: 369.0 ton\n",
      "KOTA TASIKMALAYA, Tahun 2020: 285.0 ton\n",
      "KOTA BANJAR, Tahun 2020: 79.0 ton\n",
      "KABUPATEN BOGOR, Tahun 2021: 971.59 ton\n",
      "KABUPATEN SUKABUMI, Tahun 2021: 356.02 ton\n",
      "KABUPATEN CIANJUR, Tahun 2021: 355.69 ton\n",
      "KABUPATEN BANDUNG, Tahun 2021: 1489.04 ton\n",
      "KABUPATEN GARUT, Tahun 2021: 321.17 ton\n",
      "KABUPATEN TASIKMALAYA, Tahun 2021: 172.26 ton\n",
      "KABUPATEN CIAMIS, Tahun 2021: 159.41 ton\n",
      "KABUPATEN KUNINGAN, Tahun 2021: 405.76 ton\n",
      "KABUPATEN CIREBON, Tahun 2021: 242.52 ton\n",
      "KABUPATEN MAJALENGKA, Tahun 2021: 546.54 ton\n",
      "KABUPATEN SUMEDANG, Tahun 2021: 707.75 ton\n",
      "KABUPATEN INDRAMAYU, Tahun 2021: 792.48 ton\n",
      "KABUPATEN SUBANG, Tahun 2021: 739.6 ton\n",
      "KABUPATEN PURWAKARTA, Tahun 2021: 239.72 ton\n",
      "KABUPATEN KARAWANG, Tahun 2021: 614.61 ton\n",
      "KABUPATEN BEKASI, Tahun 2021: 1193.76 ton\n",
      "KABUPATEN BANDUNG BARAT, Tahun 2021: 201.09 ton\n",
      "KABUPATEN PANGANDARAN, Tahun 2021: 46.62 ton\n",
      "KOTA BOGOR, Tahun 2021: 719.72 ton\n",
      "KOTA SUKABUMI, Tahun 2021: 232.06 ton\n",
      "KOTA BANDUNG, Tahun 2021: 1529.04 ton\n",
      "KOTA CIREBON, Tahun 2021: 229.75 ton\n",
      "KOTA BEKASI, Tahun 2021: 1500.77 ton\n",
      "KOTA DEPOK, Tahun 2021: 1418.87 ton\n",
      "KOTA CIMAHI, Tahun 2021: 193.36 ton\n",
      "KOTA TASIKMALAYA, Tahun 2021: 295.87 ton\n",
      "KOTA BANJAR, Tahun 2021: 60.29 ton\n",
      "KABUPATEN BOGOR, Tahun 2022: nan ton\n",
      "KABUPATEN SUKABUMI, Tahun 2022: nan ton\n",
      "KABUPATEN CIANJUR, Tahun 2022: nan ton\n",
      "KABUPATEN BANDUNG, Tahun 2022: nan ton\n",
      "KABUPATEN GARUT, Tahun 2022: nan ton\n",
      "KABUPATEN TASIKMALAYA, Tahun 2022: nan ton\n",
      "KABUPATEN CIAMIS, Tahun 2022: nan ton\n",
      "KABUPATEN KUNINGAN, Tahun 2022: nan ton\n",
      "KABUPATEN CIREBON, Tahun 2022: nan ton\n",
      "KABUPATEN MAJALENGKA, Tahun 2022: nan ton\n",
      "KABUPATEN SUMEDANG, Tahun 2022: nan ton\n",
      "KABUPATEN INDRAMAYU, Tahun 2022: nan ton\n",
      "KABUPATEN SUBANG, Tahun 2022: nan ton\n",
      "KABUPATEN PURWAKARTA, Tahun 2022: nan ton\n",
      "KABUPATEN KARAWANG, Tahun 2022: nan ton\n",
      "KABUPATEN BEKASI, Tahun 2022: nan ton\n",
      "KABUPATEN BANDUNG BARAT, Tahun 2022: nan ton\n",
      "KABUPATEN PANGANDARAN, Tahun 2022: nan ton\n",
      "KOTA BOGOR, Tahun 2022: nan ton\n",
      "KOTA SUKABUMI, Tahun 2022: nan ton\n",
      "KOTA BANDUNG, Tahun 2022: nan ton\n",
      "KOTA CIREBON, Tahun 2022: nan ton\n",
      "KOTA BEKASI, Tahun 2022: nan ton\n",
      "KOTA DEPOK, Tahun 2022: nan ton\n",
      "KOTA CIMAHI, Tahun 2022: nan ton\n",
      "KOTA TASIKMALAYA, Tahun 2022: nan ton\n",
      "KOTA BANJAR, Tahun 2022: nan ton\n",
      "KABUPATEN BOGOR, Tahun 2023: nan ton\n",
      "KABUPATEN SUKABUMI, Tahun 2023: nan ton\n",
      "KABUPATEN CIANJUR, Tahun 2023: nan ton\n",
      "KABUPATEN BANDUNG, Tahun 2023: nan ton\n",
      "KABUPATEN GARUT, Tahun 2023: nan ton\n",
      "KABUPATEN TASIKMALAYA, Tahun 2023: nan ton\n",
      "KABUPATEN CIAMIS, Tahun 2023: nan ton\n",
      "KABUPATEN KUNINGAN, Tahun 2023: nan ton\n",
      "KABUPATEN CIREBON, Tahun 2023: nan ton\n",
      "KABUPATEN MAJALENGKA, Tahun 2023: nan ton\n",
      "KABUPATEN SUMEDANG, Tahun 2023: nan ton\n",
      "KABUPATEN INDRAMAYU, Tahun 2023: nan ton\n",
      "KABUPATEN SUBANG, Tahun 2023: nan ton\n",
      "KABUPATEN PURWAKARTA, Tahun 2023: nan ton\n",
      "KABUPATEN KARAWANG, Tahun 2023: nan ton\n",
      "KABUPATEN BEKASI, Tahun 2023: nan ton\n",
      "KABUPATEN BANDUNG BARAT, Tahun 2023: nan ton\n",
      "KABUPATEN PANGANDARAN, Tahun 2023: nan ton\n",
      "KOTA BOGOR, Tahun 2023: nan ton\n",
      "KOTA SUKABUMI, Tahun 2023: nan ton\n",
      "KOTA BANDUNG, Tahun 2023: nan ton\n",
      "KOTA CIREBON, Tahun 2023: nan ton\n",
      "KOTA BEKASI, Tahun 2023: nan ton\n",
      "KOTA DEPOK, Tahun 2023: nan ton\n",
      "KOTA CIMAHI, Tahun 2023: nan ton\n",
      "KOTA TASIKMALAYA, Tahun 2023: nan ton\n",
      "KOTA BANJAR, Tahun 2023: nan ton\n"
     ]
    }
   ],
   "source": [
    "total_per_kota_tahun = {}\n",
    "\n",
    "for i, row in df_excel1.iterrows():\n",
    "    kota = row['nama_kabupaten_kota']\n",
    "    tahun = row['tahun']\n",
    "    produksi = row['jumlah_produksi_sampah']\n",
    "    \n",
    "    key = (kota, tahun)\n",
    "    \n",
    "    if key in total_per_kota_tahun:\n",
    "        total_per_kota_tahun[key] += produksi\n",
    "    else:\n",
    "        total_per_kota_tahun[key] = produksi\n",
    "\n",
    "print(\"Total produksi sampah per Kota/Kabupaten per tahun:\")\n",
    "for (kota, tahun), total in total_per_kota_tahun.items():\n",
    "    print(f\"{kota}, Tahun {tahun}: {total} ton\")\n"
   ]
  }
 ],
 "metadata": {
  "kernelspec": {
   "display_name": "Python 3",
   "language": "python",
   "name": "python3"
  },
  "language_info": {
   "codemirror_mode": {
    "name": "ipython",
    "version": 3
   },
   "file_extension": ".py",
   "mimetype": "text/x-python",
   "name": "python",
   "nbconvert_exporter": "python",
   "pygments_lexer": "ipython3",
   "version": "3.12.6"
  }
 },
 "nbformat": 4,
 "nbformat_minor": 2
}
